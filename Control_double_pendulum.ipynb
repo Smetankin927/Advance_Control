{
 "cells": [
  {
   "cell_type": "markdown",
   "metadata": {
    "id": "SJU04avpfYnL"
   },
   "source": [
    "$$\n",
    "%%%%%%%%%%%%%%%%%%%%%%%%%%%%%%%%%%%%%%%%%%%%%%%%%%%%%%%%%%%%%%%%%%%%%%%%%%%%%%%%%%%%%%%%%%%%\n",
    "%%%%%%%%%%%%%%%%%%%%%%%%%%%%%%%%%%%%%%%%%%%%%%%%%%%%%%% GENERAL SYMBOLS\n",
    "\\newcommand{\\diff}{\\mathop{}\\!\\mathrm{d}}                                % Differential\n",
    "\\newcommand{\\pdiff}[2]{ { \\frac{\\partial {#1}}{\\partial {#2}} } }        % Partial differentiation\n",
    "\\newcommand{\\D}{\\ensuremath{\\mathcal{D}}}                                % Generalized derivative\n",
    "\\newcommand{\\eps}{{\\varepsilon}}                                        % Epsilon\n",
    "\\newcommand{\\ball}{{\\mathcal B}}                                        % Ball\n",
    "\\newcommand{\\clip}{{\\text{clip}}}                                        % Clip function\n",
    "\\newcommand{\\Lip}[1]{\\text{Lip}_{#1}}                                    % Lipschitz constant of #1\n",
    "\\newcommand{\\sgn}{{\\text{sgn}}}                                            % Signum function\n",
    "\\newcommand{\\diam}{{\\text{diam}}}                                        % Diameter\n",
    "\\newcommand{\\dom}{{\\text{dom}}}                                            % Domain\n",
    "\\newcommand{\\ramp}{{\\text{ramp}}}                                        % Ramp    \n",
    "\\newcommand{\\co}{{\\overline{\\text{co}}}}                                % Convex closure\n",
    "\\DeclareMathOperator*{\\argmin}{\\text{arg\\,min}}                            % Argmin\n",
    "\\DeclareMathOperator*{\\argmax}{\\text{arg\\,max}}                            % Argmax\n",
    "%\\newcommand{\\ln}{\\text{ln}}                                                % Natural logarithm\n",
    "\\newcommand{\\transp}{\\ensuremath{^{\\top}}}                                % Matrix transpose\n",
    "\\newcommand{\\inv}{\\ensuremath{^{-1}}}                                    % Inverse\n",
    "\\newcommand{\\tovec}[1]{\\ensuremath{\\text{vec}}\\left(#1\\right)}            % To-vector transformation\n",
    "\\newcommand{\\nrm}[1]{\\left\\lVert#1\\right\\rVert}                            % Norm\n",
    "\\newcommand{\\diag}[1]{{\\text{diag}}\\left(#1\\right)}                        % Diagonal\n",
    "\\newcommand{\\abs}[1]{\\left\\lvert#1\\right\\rvert}                            % Absolute value\n",
    "\\newcommand{\\scal}[1]{\\left\\langle#1\\right\\rangle}                        % Scalar product\n",
    "\\newcommand{\\tr}[1]{{\\text{tr}}\\left(#1\\right)}                            % Trace\n",
    "\\newcommand{\\E}[2][{}]{\\mathbb E_{#1}\\left[#2\\right]}                    % Mean\n",
    "\\newcommand{\\Es}[2][{}]{\\hat {\\mathbb E}_{#1}\\left[#2\\right]}            % Sample mean\n",
    "\\newcommand{\\PP}[1]{\\mathbb P\\left[#1\\right]}                            % Probability\n",
    "\\newcommand{\\bigo}[1]{\\mathcal O\\left(#1\\right)}                        % Big-o\n",
    "\\newcommand{\\low}{{\\text{low}}}                                            % Lower bound\n",
    "\\newcommand{\\up}{{\\text{up}}}                                            % Upper bound\n",
    "%\\newcommand\\circled[1]{\\tikz[baseline=(char.base)]{\\node[shape=circle,draw,inner sep=1pt](char){#1};}}\n",
    "%%%%%%%%%%%%%%%%%%%%%%%%%%%%%%%%%%%%%%%%%%%%%%%%%%%%%%%%%%%%%%%%%%%%%%%%%%%%%%%%%%%%%%%%%%%%%\n",
    "%%%%%%%%%%%%%%%%%%%%%%%%%%%%%%%%%%%%%%%%%%%%%%%%%%%%%%%% ARROWS\n",
    "\\newcommand{\\ra}{\\rightarrow}                                            % Right arrow\n",
    "\\newcommand{\\la}{\\leftarrow}                                            % Left arrow\n",
    "\\newcommand{\\rra}{\\rightrightarrows}                                    % Double right arrow\n",
    "%%%%%%%%%%%%%%%%%%%%%%%%%%%%%%%%%%%%%%%%%%%%%%%%%%%%%%%%%%%%%%%%%%%%%%%%%%%%%%%%%%%%%%%%%%%%\n",
    "%%%%%%%%%%%%%%%%%%%%%%%%%%%%%%%%%%%%%%%%%%%%%%%%%%%%%%% ABBREVIATIONS\n",
    "\\newcommand{\\ie}{\\unskip, i.\\,e.,\\xspace}                                % That is\n",
    "\\newcommand{\\eg}{\\unskip, e.\\,g.,\\xspace}                                % For example\n",
    "\\newcommand{\\sut}{\\text{s.\\,t.\\,}}                                        % Such that or subject to\n",
    "\\newcommand{\\wrt}{w.\\,r.\\,t. \\xspace}                                    % With respect to\n",
    "%%%%%%%%%%%%%%%%%%%%%%%%%%%%%%%%%%%%%%%%%%%%%%%%%%%%%%%%%%%%%%%%%%%%%%%%%%%%%%%%%%%%%%%%%%%%%\n",
    "%%%%%%%%%%%%%%%%%%%%%%%%%%%%%%%%%%%%%%%%%%%%%%%%%%%%%%% SETS\n",
    "\\let\\oldemptyset\\emptyset\n",
    "\\let\\emptyset\\varnothing\n",
    "\\newcommand{\\N}{{\\mathbb{N}}}                                            % Set of natural numbers\n",
    "\\newcommand{\\Z}{{\\mathbb{Z}}}                                            % Set of integer numbers\n",
    "\\newcommand{\\Q}{{\\mathbb{Q}}}                                            % Set of rational numbers\n",
    "\\newcommand{\\R}{{\\mathbb{R}}}                                            % Set of real numbers\n",
    "%%%%%%%%%%%%%%%%%%%%%%%%%%%%%%%%%%%%%%%%%%%%%%%%%%%%%%%%%%%%%%%%%%%%%%%%%%%%%%%%%%%%%%%%%%%%\n",
    "%%%%%%%%%%%%%%%%%%%%%%%%%%%%%%%%%%%%%%%%%%%%%%%%%%%%%%%% COLORED\n",
    "%\\newcommand{\\red}[1]{\\textcolor{red}{#1}}\n",
    "%\\newcommand{\\blue}[1]{\\textcolor{blue}{#1}}\n",
    "%\\definecolor{dgreen}{rgb}{0.0, 0.5, 0.0}\n",
    "%\\newcommand{\\green}[1]{\\textcolor{dgreen}{#1}}\n",
    "%%%%%%%%%%%%%%%%%%%%%%%%%%%%%%%%%%%%%%%%%%%%%%%%%%%%%%%%%%%%%%%%%%%%%%%%%%%%%%%%%%%%%%%%%%%%\n",
    "%%%%%%%%%%%%%%%%%%%%%%%%%%%%%%%%%%%%%%%%%%%%%%%%%%%%%%% SYSTEMS AND CONTROL\n",
    "\\newcommand{\\state}{s}                                                    % State (as vector)\n",
    "\\newcommand{\\State}{S}                                                    % State (as random variable)\n",
    "\\newcommand{\\states}{\\mathbb S}                                            % State space\n",
    "\\newcommand{\\action}{a}                                                    % Action (as vector)    \n",
    "\\newcommand{\\Action}{A}                                                    % Action (as random variable)\n",
    "\\newcommand{\\actions}{\\mathbb A}                                        % Action space\n",
    "\\newcommand{\\traj}{z}                                                    % State-action tuple (as vector tuple)\n",
    "\\newcommand{\\Traj}{Z}                                                    % State-action tuple (as random variable tuple)\n",
    "\\newcommand{\\obs}{o}                                                    % Observation (as vector)\n",
    "\\newcommand{\\Obs}{O}                                                    % Observation (as random variable)\n",
    "\\newcommand{\\obses}{\\mathbb O}                                            % Observation space\n",
    "\\newcommand{\\policy}{\\pi}                                                % Policy (as function or distribution)\n",
    "\\newcommand{\\policies}{\\Pi}                                                % Policy space\n",
    "\\newcommand{\\transit}{P}                                                % State transition map\n",
    "\\newcommand{\\reward}{r}                                                    % Reward (as vector)\n",
    "\\newcommand{\\Reward}{R}                                                    % Reward (as random varaible)\n",
    "\\newcommand{\\cost}{c}                                                    % Cost (as vector)\n",
    "\\newcommand{\\Cost}{C}                                                    % Cost (as random varaible)\n",
    "\\newcommand{\\Value}{V}                                                    % Value\n",
    "\\newcommand{\\Advan}{\\mathcal A}                                            % Advantage\n",
    "\\newcommand{\\W}{{\\mathbb{W}}}                                % Weight space\n",
    "\\newcommand{\\act}{{\\text{act}}}                                            % Actor abbreviation\n",
    "\\newcommand{\\crit}{{\\text{crit}}}                                        % Critic abbreviation\n",
    "\\newcommand{\\B}{{\\mathbb{B}}}                                % Basin\n",
    "\\newcommand{\\G}{{\\mathbb{G}}}                                % Attractor (goal set)\n",
    "\\newcommand{\\Hamilt}{\\mathcal{H}}                            % Hamiltonian\n",
    "\\newcommand{\\K}{\\mathcal{K}}                        % Class kappa\n",
    "\\newcommand{\\KL}{\\mathcal{KL}\\xspace}                        % Class kappa-ell\n",
    "\\newcommand{\\Kinf}{\\mathcal{K}_{\\infty}}            % Class kappa-infinity\n",
    "\\newcommand{\\KLinf}{\\mathcal{KL}_{\\infty}}           % Class kappa-ell-infinity\n",
    "\\newcommand{\\T}{\\mathcal T}                                                % Total time\n",
    "\\newcommand{\\deltau}{\\Delta \\tau}                                        % Time step size\n",
    "\\newcommand{\\dt}{\\mathrm{d}t}                                % Time differential\n",
    "\\newcommand{\\normpdf}{\\mathcal{N}}                            % Normal PDF\n",
    "\\newcommand{\\trajpdf}{\\rho}                                                % State-action PDF\n",
    "\\newcommand{\\TD}{\\delta}                                                % Temporal difference\n",
    "\\newcommand{\\old}{{\\text{old}}}                                            % Old (previous) index\n",
    "\\newcommand{\\loss}{\\mathcal L}                                            % Loss\n",
    "\\newcommand{\\replay}{\\mathcal R}                                        % Experience replay\n",
    "\\newcommand{\\safeset}{\\mathcal{S}}                            % Safe set\n",
    "\\newcommand{\\dkappa}{\\kappa_{\\text{dec}}}                                % Decay kappa function\n",
    "\\newcommand{\\kldiv}[2]{d_{\\text{KL}}\\left(#1\\;\\middle\\|\\;#2\\right)}\n",
    "\\newcommand{\\barkldiv}[2]{\\overline{d}_{\\text{KL}}\\left(#1 \\; \\middle\\| \\; #2\\right)}\n",
    "\\newcommand{\\spc}{{\\,\\,}}\n",
    "$$\n",
    "\n",
    "Please ensure that the following requirements are installed prior to executing the cells within the Jupyter notebook\n"
   ]
  },
  {
   "cell_type": "markdown",
   "metadata": {},
   "source": [
    "## Double inverted pendulum stabilization around equilibrium point $\\theta_1=0$, $\\theta_2=0$\n",
    "\n",
    "### Before starting work, I advise you to read \"notes.pdf\""
   ]
  },
  {
   "cell_type": "markdown",
   "metadata": {},
   "source": [
    "## 1. install regelum"
   ]
  },
  {
   "cell_type": "code",
   "execution_count": 1,
   "metadata": {
    "colab": {
     "base_uri": "https://localhost:8080/"
    },
    "id": "Gjq4ooiafYnP",
    "outputId": "6c1552e2-f615-4cd0-d555-0f99b076f895"
   },
   "outputs": [
    {
     "name": "stdout",
     "output_type": "stream",
     "text": [
      "Collecting regelum-control\n",
      "  Downloading regelum_control-0.3.2-py3-none-any.whl.metadata (4.1 kB)\n",
      "Collecting casadi<4.0.0,>=3.6.5 (from regelum-control)\n",
      "  Downloading casadi-3.6.5-cp311-none-manylinux2014_x86_64.whl.metadata (2.2 kB)\n",
      "Collecting cues<0.4.0,>=0.3.0 (from regelum-control)\n",
      "  Downloading cues-0.3.0-py3-none-any.whl.metadata (6.8 kB)\n",
      "Collecting dill<0.4.0,>=0.3.8 (from regelum-control)\n",
      "  Downloading dill-0.3.8-py3-none-any.whl.metadata (10 kB)\n",
      "Collecting gitpython<4.0.0,>=3.1.42 (from regelum-control)\n",
      "  Downloading GitPython-3.1.43-py3-none-any.whl.metadata (13 kB)\n",
      "Requirement already satisfied: matplotlib>=3.7.1 in /home/sergei/anaconda3/lib/python3.11/site-packages (from regelum-control) (3.8.3)\n",
      "Collecting matplotx<0.4.0,>=0.3.8 (from regelum-control)\n",
      "  Downloading matplotx-0.3.10-py3-none-any.whl.metadata (13 kB)\n",
      "Collecting mlflow==2.4.1 (from regelum-control)\n",
      "  Downloading mlflow-2.4.1-py3-none-any.whl.metadata (12 kB)\n",
      "Requirement already satisfied: numpy>=1.25.2 in /home/sergei/anaconda3/lib/python3.11/site-packages (from regelum-control) (1.26.4)\n",
      "Collecting omegaconf<3.0.0,>=2.3.0 (from regelum-control)\n",
      "  Downloading omegaconf-2.3.0-py3-none-any.whl.metadata (3.9 kB)\n",
      "Requirement already satisfied: pandas>=1.5.3 in /home/sergei/anaconda3/lib/python3.11/site-packages (from regelum-control) (2.2.1)\n",
      "Collecting plotly>=5.15.0 (from regelum-control)\n",
      "  Downloading plotly-5.22.0-py3-none-any.whl.metadata (7.1 kB)\n",
      "Requirement already satisfied: pyqt5==5.15.10 in /home/sergei/anaconda3/lib/python3.11/site-packages (from regelum-control) (5.15.10)\n",
      "Collecting pyqt5-qt5<=5.15.13,>=5.15.2 (from regelum-control)\n",
      "  Using cached PyQt5_Qt5-5.15.2-py3-none-manylinux2014_x86_64.whl.metadata (535 bytes)\n",
      "Collecting rehydra==1.3.5 (from regelum-control)\n",
      "  Downloading rehydra-1.3.5-py3-none-any.whl.metadata (1.2 kB)\n",
      "Collecting rehydra-joblib-launcher==1.3.0 (from regelum-control)\n",
      "  Downloading rehydra_joblib_launcher-1.3.0-py3-none-any.whl.metadata (1.1 kB)\n",
      "Requirement already satisfied: scipy>=1.11.0 in /home/sergei/anaconda3/lib/python3.11/site-packages (from regelum-control) (1.13.0)\n",
      "Collecting svgpath2mpl<2.0.0,>=1.0.0 (from regelum-control)\n",
      "  Downloading svgpath2mpl-1.0.0-py2.py3-none-any.whl.metadata (2.3 kB)\n",
      "Collecting svgpathtools<2.0.0,>=1.6.1 (from regelum-control)\n",
      "  Downloading svgpathtools-1.6.1-py2.py3-none-any.whl.metadata (22 kB)\n",
      "Collecting tables>=3.8.0 (from regelum-control)\n",
      "  Downloading tables-3.9.2-cp311-cp311-manylinux_2_17_x86_64.manylinux2014_x86_64.whl.metadata (2.3 kB)\n",
      "Requirement already satisfied: torch>=1.13.1 in /home/sergei/anaconda3/lib/python3.11/site-packages (from regelum-control) (2.3.0)\n",
      "Requirement already satisfied: click<9,>=7.0 in /home/sergei/anaconda3/lib/python3.11/site-packages (from mlflow==2.4.1->regelum-control) (8.1.7)\n",
      "Requirement already satisfied: cloudpickle<3 in /home/sergei/anaconda3/lib/python3.11/site-packages (from mlflow==2.4.1->regelum-control) (2.2.1)\n",
      "Collecting databricks-cli<1,>=0.8.7 (from mlflow==2.4.1->regelum-control)\n",
      "  Downloading databricks_cli-0.18.0-py2.py3-none-any.whl.metadata (4.0 kB)\n",
      "Requirement already satisfied: entrypoints<1 in /home/sergei/anaconda3/lib/python3.11/site-packages (from mlflow==2.4.1->regelum-control) (0.4)\n",
      "Requirement already satisfied: pyyaml<7,>=5.1 in /home/sergei/anaconda3/lib/python3.11/site-packages (from mlflow==2.4.1->regelum-control) (6.0.1)\n",
      "Collecting protobuf<5,>=3.12.0 (from mlflow==2.4.1->regelum-control)\n",
      "  Downloading protobuf-4.25.3-cp37-abi3-manylinux2014_x86_64.whl.metadata (541 bytes)\n",
      "Requirement already satisfied: pytz<2024 in /home/sergei/anaconda3/lib/python3.11/site-packages (from mlflow==2.4.1->regelum-control) (2023.3.post1)\n",
      "Requirement already satisfied: requests<3,>=2.17.3 in /home/sergei/anaconda3/lib/python3.11/site-packages (from mlflow==2.4.1->regelum-control) (2.31.0)\n",
      "Requirement already satisfied: packaging<24 in /home/sergei/anaconda3/lib/python3.11/site-packages (from mlflow==2.4.1->regelum-control) (23.2)\n",
      "Collecting importlib-metadata!=4.7.0,<7,>=3.7.0 (from mlflow==2.4.1->regelum-control)\n",
      "  Downloading importlib_metadata-6.11.0-py3-none-any.whl.metadata (4.9 kB)\n",
      "Collecting sqlparse<1,>=0.4.0 (from mlflow==2.4.1->regelum-control)\n",
      "  Downloading sqlparse-0.5.0-py3-none-any.whl.metadata (3.9 kB)\n",
      "Collecting alembic!=1.10.0,<2 (from mlflow==2.4.1->regelum-control)\n",
      "  Downloading alembic-1.13.1-py3-none-any.whl.metadata (7.4 kB)\n",
      "Collecting docker<7,>=4.0.0 (from mlflow==2.4.1->regelum-control)\n",
      "  Downloading docker-6.1.3-py3-none-any.whl.metadata (3.5 kB)\n",
      "Collecting Flask<3 (from mlflow==2.4.1->regelum-control)\n",
      "  Downloading flask-2.3.3-py3-none-any.whl.metadata (3.6 kB)\n",
      "Collecting querystring-parser<2 (from mlflow==2.4.1->regelum-control)\n",
      "  Downloading querystring_parser-1.2.4-py2.py3-none-any.whl.metadata (559 bytes)\n",
      "Collecting sqlalchemy<3,>=1.4.0 (from mlflow==2.4.1->regelum-control)\n",
      "  Downloading SQLAlchemy-2.0.30-cp311-cp311-manylinux_2_17_x86_64.manylinux2014_x86_64.whl.metadata (9.6 kB)\n",
      "Requirement already satisfied: scikit-learn<2 in /home/sergei/anaconda3/lib/python3.11/site-packages (from mlflow==2.4.1->regelum-control) (1.4.2)\n",
      "Collecting pyarrow<13,>=4.0.0 (from mlflow==2.4.1->regelum-control)\n",
      "  Downloading pyarrow-12.0.1-cp311-cp311-manylinux_2_17_x86_64.manylinux2014_x86_64.whl.metadata (3.0 kB)\n",
      "Collecting markdown<4,>=3.3 (from mlflow==2.4.1->regelum-control)\n",
      "  Downloading Markdown-3.6-py3-none-any.whl.metadata (7.0 kB)\n",
      "Collecting gunicorn<21 (from mlflow==2.4.1->regelum-control)\n",
      "  Downloading gunicorn-20.1.0-py3-none-any.whl.metadata (3.8 kB)\n",
      "Requirement already satisfied: Jinja2<4,>=2.11 in /home/sergei/anaconda3/lib/python3.11/site-packages (from mlflow==2.4.1->regelum-control) (3.1.3)\n",
      "Requirement already satisfied: PyQt5-sip<13,>=12.13 in /home/sergei/anaconda3/lib/python3.11/site-packages (from pyqt5==5.15.10->regelum-control) (12.13.0)\n",
      "Collecting antlr4-python3-runtime==4.9.* (from rehydra==1.3.5->regelum-control)\n",
      "  Downloading antlr4-python3-runtime-4.9.3.tar.gz (117 kB)\n",
      "\u001b[2K     \u001b[38;2;114;156;31m━━━━━━━━━━━━━━━━━━━━━━━━━━━━━━━━━━━━━\u001b[0m \u001b[32m117.0/117.0 kB\u001b[0m \u001b[31m595.3 kB/s\u001b[0m eta \u001b[36m0:00:00\u001b[0m[31m3.2 MB/s\u001b[0m eta \u001b[36m0:00:01\u001b[0m\n",
      "\u001b[?25h  Preparing metadata (setup.py) ... \u001b[?25ldone\n",
      "\u001b[?25hCollecting rich==13.3.1 (from rehydra==1.3.5->regelum-control)\n",
      "  Downloading rich-13.3.1-py3-none-any.whl.metadata (18 kB)\n",
      "Requirement already satisfied: joblib>=0.14.0 in /home/sergei/anaconda3/lib/python3.11/site-packages (from rehydra-joblib-launcher==1.3.0->regelum-control) (1.4.0)\n",
      "Collecting markdown-it-py<3.0.0,>=2.1.0 (from rich==13.3.1->rehydra==1.3.5->regelum-control)\n",
      "  Downloading markdown_it_py-2.2.0-py3-none-any.whl.metadata (6.8 kB)\n",
      "Requirement already satisfied: pygments<3.0.0,>=2.14.0 in /home/sergei/anaconda3/lib/python3.11/site-packages (from rich==13.3.1->rehydra==1.3.5->regelum-control) (2.17.2)\n",
      "Collecting gitdb<5,>=4.0.1 (from gitpython<4.0.0,>=3.1.42->regelum-control)\n",
      "  Downloading gitdb-4.0.11-py3-none-any.whl.metadata (1.2 kB)\n",
      "Requirement already satisfied: contourpy>=1.0.1 in /home/sergei/anaconda3/lib/python3.11/site-packages (from matplotlib>=3.7.1->regelum-control) (1.2.0)\n",
      "Requirement already satisfied: cycler>=0.10 in /home/sergei/anaconda3/lib/python3.11/site-packages (from matplotlib>=3.7.1->regelum-control) (0.12.1)\n",
      "Requirement already satisfied: fonttools>=4.22.0 in /home/sergei/anaconda3/lib/python3.11/site-packages (from matplotlib>=3.7.1->regelum-control) (4.50.0)\n",
      "Requirement already satisfied: kiwisolver>=1.3.1 in /home/sergei/anaconda3/lib/python3.11/site-packages (from matplotlib>=3.7.1->regelum-control) (1.4.5)\n",
      "Requirement already satisfied: pillow>=8 in /home/sergei/anaconda3/lib/python3.11/site-packages (from matplotlib>=3.7.1->regelum-control) (10.2.0)\n",
      "Requirement already satisfied: pyparsing>=2.3.1 in /home/sergei/anaconda3/lib/python3.11/site-packages (from matplotlib>=3.7.1->regelum-control) (3.1.2)\n",
      "Requirement already satisfied: python-dateutil>=2.7 in /home/sergei/anaconda3/lib/python3.11/site-packages (from matplotlib>=3.7.1->regelum-control) (2.8.2)\n",
      "Requirement already satisfied: tzdata>=2022.7 in /home/sergei/anaconda3/lib/python3.11/site-packages (from pandas>=1.5.3->regelum-control) (2023.3)\n"
     ]
    },
    {
     "name": "stdout",
     "output_type": "stream",
     "text": [
      "Collecting tenacity>=6.2.0 (from plotly>=5.15.0->regelum-control)\n",
      "  Downloading tenacity-8.3.0-py3-none-any.whl.metadata (1.2 kB)\n",
      "Collecting svgwrite (from svgpathtools<2.0.0,>=1.6.1->regelum-control)\n",
      "  Downloading svgwrite-1.4.3-py3-none-any.whl.metadata (8.8 kB)\n",
      "Requirement already satisfied: numexpr>=2.6.2 in /home/sergei/anaconda3/lib/python3.11/site-packages (from tables>=3.8.0->regelum-control) (2.8.7)\n",
      "Collecting py-cpuinfo (from tables>=3.8.0->regelum-control)\n",
      "  Downloading py_cpuinfo-9.0.0-py3-none-any.whl.metadata (794 bytes)\n",
      "Collecting blosc2>=2.3.0 (from tables>=3.8.0->regelum-control)\n",
      "  Downloading blosc2-2.6.2-cp311-cp311-manylinux_2_17_x86_64.manylinux2014_x86_64.whl.metadata (9.1 kB)\n",
      "Requirement already satisfied: filelock in /home/sergei/anaconda3/lib/python3.11/site-packages (from torch>=1.13.1->regelum-control) (3.13.1)\n",
      "Requirement already satisfied: typing-extensions>=4.8.0 in /home/sergei/anaconda3/lib/python3.11/site-packages (from torch>=1.13.1->regelum-control) (4.11.0)\n",
      "Requirement already satisfied: sympy in /home/sergei/anaconda3/lib/python3.11/site-packages (from torch>=1.13.1->regelum-control) (1.12)\n",
      "Requirement already satisfied: networkx in /home/sergei/anaconda3/lib/python3.11/site-packages (from torch>=1.13.1->regelum-control) (3.3)\n",
      "Requirement already satisfied: fsspec in /home/sergei/anaconda3/lib/python3.11/site-packages (from torch>=1.13.1->regelum-control) (2023.10.0)\n",
      "Requirement already satisfied: nvidia-cuda-nvrtc-cu12==12.1.105 in /home/sergei/anaconda3/lib/python3.11/site-packages (from torch>=1.13.1->regelum-control) (12.1.105)\n",
      "Requirement already satisfied: nvidia-cuda-runtime-cu12==12.1.105 in /home/sergei/anaconda3/lib/python3.11/site-packages (from torch>=1.13.1->regelum-control) (12.1.105)\n",
      "Requirement already satisfied: nvidia-cuda-cupti-cu12==12.1.105 in /home/sergei/anaconda3/lib/python3.11/site-packages (from torch>=1.13.1->regelum-control) (12.1.105)\n",
      "Requirement already satisfied: nvidia-cudnn-cu12==8.9.2.26 in /home/sergei/anaconda3/lib/python3.11/site-packages (from torch>=1.13.1->regelum-control) (8.9.2.26)\n",
      "Requirement already satisfied: nvidia-cublas-cu12==12.1.3.1 in /home/sergei/anaconda3/lib/python3.11/site-packages (from torch>=1.13.1->regelum-control) (12.1.3.1)\n",
      "Requirement already satisfied: nvidia-cufft-cu12==11.0.2.54 in /home/sergei/anaconda3/lib/python3.11/site-packages (from torch>=1.13.1->regelum-control) (11.0.2.54)\n",
      "Requirement already satisfied: nvidia-curand-cu12==10.3.2.106 in /home/sergei/anaconda3/lib/python3.11/site-packages (from torch>=1.13.1->regelum-control) (10.3.2.106)\n",
      "Requirement already satisfied: nvidia-cusolver-cu12==11.4.5.107 in /home/sergei/anaconda3/lib/python3.11/site-packages (from torch>=1.13.1->regelum-control) (11.4.5.107)\n",
      "Requirement already satisfied: nvidia-cusparse-cu12==12.1.0.106 in /home/sergei/anaconda3/lib/python3.11/site-packages (from torch>=1.13.1->regelum-control) (12.1.0.106)\n",
      "Requirement already satisfied: nvidia-nccl-cu12==2.20.5 in /home/sergei/anaconda3/lib/python3.11/site-packages (from torch>=1.13.1->regelum-control) (2.20.5)\n",
      "Requirement already satisfied: nvidia-nvtx-cu12==12.1.105 in /home/sergei/anaconda3/lib/python3.11/site-packages (from torch>=1.13.1->regelum-control) (12.1.105)\n",
      "Requirement already satisfied: triton==2.3.0 in /home/sergei/anaconda3/lib/python3.11/site-packages (from torch>=1.13.1->regelum-control) (2.3.0)\n",
      "Requirement already satisfied: nvidia-nvjitlink-cu12 in /home/sergei/anaconda3/lib/python3.11/site-packages (from nvidia-cusolver-cu12==11.4.5.107->torch>=1.13.1->regelum-control) (12.4.127)\n",
      "Collecting Mako (from alembic!=1.10.0,<2->mlflow==2.4.1->regelum-control)\n",
      "  Downloading Mako-1.3.5-py3-none-any.whl.metadata (2.9 kB)\n",
      "Collecting ndindex>=1.4 (from blosc2>=2.3.0->tables>=3.8.0->regelum-control)\n",
      "  Downloading ndindex-1.8-py3-none-any.whl.metadata (3.4 kB)\n",
      "Requirement already satisfied: msgpack in /home/sergei/anaconda3/lib/python3.11/site-packages (from blosc2>=2.3.0->tables>=3.8.0->regelum-control) (1.0.3)\n",
      "Requirement already satisfied: pyjwt>=1.7.0 in /home/sergei/anaconda3/lib/python3.11/site-packages (from databricks-cli<1,>=0.8.7->mlflow==2.4.1->regelum-control) (2.4.0)\n",
      "Collecting oauthlib>=3.1.0 (from databricks-cli<1,>=0.8.7->mlflow==2.4.1->regelum-control)\n",
      "  Downloading oauthlib-3.2.2-py3-none-any.whl.metadata (7.5 kB)\n",
      "Collecting tabulate>=0.7.7 (from databricks-cli<1,>=0.8.7->mlflow==2.4.1->regelum-control)\n",
      "  Downloading tabulate-0.9.0-py3-none-any.whl.metadata (34 kB)\n",
      "Requirement already satisfied: six>=1.10.0 in /home/sergei/anaconda3/lib/python3.11/site-packages (from databricks-cli<1,>=0.8.7->mlflow==2.4.1->regelum-control) (1.16.0)\n",
      "Requirement already satisfied: urllib3<3,>=1.26.7 in /home/sergei/anaconda3/lib/python3.11/site-packages (from databricks-cli<1,>=0.8.7->mlflow==2.4.1->regelum-control) (2.1.0)\n",
      "Requirement already satisfied: websocket-client>=0.32.0 in /home/sergei/anaconda3/lib/python3.11/site-packages (from docker<7,>=4.0.0->mlflow==2.4.1->regelum-control) (1.7.0)\n",
      "Collecting Werkzeug>=2.3.7 (from Flask<3->mlflow==2.4.1->regelum-control)\n",
      "  Downloading werkzeug-3.0.3-py3-none-any.whl.metadata (3.7 kB)\n",
      "Collecting itsdangerous>=2.1.2 (from Flask<3->mlflow==2.4.1->regelum-control)\n",
      "  Downloading itsdangerous-2.2.0-py3-none-any.whl.metadata (1.9 kB)\n",
      "Collecting blinker>=1.6.2 (from Flask<3->mlflow==2.4.1->regelum-control)\n",
      "  Downloading blinker-1.8.2-py3-none-any.whl.metadata (1.6 kB)\n",
      "Collecting smmap<6,>=3.0.1 (from gitdb<5,>=4.0.1->gitpython<4.0.0,>=3.1.42->regelum-control)\n",
      "  Downloading smmap-5.0.1-py3-none-any.whl.metadata (4.3 kB)\n",
      "Requirement already satisfied: setuptools>=3.0 in /home/sergei/anaconda3/lib/python3.11/site-packages (from gunicorn<21->mlflow==2.4.1->regelum-control) (69.2.0)\n",
      "Requirement already satisfied: zipp>=0.5 in /home/sergei/anaconda3/lib/python3.11/site-packages (from importlib-metadata!=4.7.0,<7,>=3.7.0->mlflow==2.4.1->regelum-control) (3.17.0)\n",
      "Requirement already satisfied: MarkupSafe>=2.0 in /home/sergei/anaconda3/lib/python3.11/site-packages (from Jinja2<4,>=2.11->mlflow==2.4.1->regelum-control) (2.1.3)\n",
      "Requirement already satisfied: charset-normalizer<4,>=2 in /home/sergei/anaconda3/lib/python3.11/site-packages (from requests<3,>=2.17.3->mlflow==2.4.1->regelum-control) (2.0.4)\n",
      "Requirement already satisfied: idna<4,>=2.5 in /home/sergei/anaconda3/lib/python3.11/site-packages (from requests<3,>=2.17.3->mlflow==2.4.1->regelum-control) (3.4)\n",
      "Requirement already satisfied: certifi>=2017.4.17 in /home/sergei/anaconda3/lib/python3.11/site-packages (from requests<3,>=2.17.3->mlflow==2.4.1->regelum-control) (2024.2.2)\n",
      "Requirement already satisfied: threadpoolctl>=2.0.0 in /home/sergei/anaconda3/lib/python3.11/site-packages (from scikit-learn<2->mlflow==2.4.1->regelum-control) (3.4.0)\n",
      "Collecting greenlet!=0.4.17 (from sqlalchemy<3,>=1.4.0->mlflow==2.4.1->regelum-control)\n",
      "  Downloading greenlet-3.0.3-cp311-cp311-manylinux_2_24_x86_64.manylinux_2_28_x86_64.whl.metadata (3.8 kB)\n",
      "Requirement already satisfied: mpmath>=0.19 in /home/sergei/anaconda3/lib/python3.11/site-packages (from sympy->torch>=1.13.1->regelum-control) (1.3.0)\n",
      "Collecting mdurl~=0.1 (from markdown-it-py<3.0.0,>=2.1.0->rich==13.3.1->rehydra==1.3.5->regelum-control)\n",
      "  Downloading mdurl-0.1.2-py3-none-any.whl.metadata (1.6 kB)\n",
      "Downloading regelum_control-0.3.2-py3-none-any.whl (147 kB)\n",
      "\u001b[2K   \u001b[38;2;114;156;31m━━━━━━━━━━━━━━━━━━━━━━━━━━━━━━━━━━━━━━━\u001b[0m \u001b[32m147.8/147.8 kB\u001b[0m \u001b[31m915.8 kB/s\u001b[0m eta \u001b[36m0:00:00\u001b[0m31m5.5 MB/s\u001b[0m eta \u001b[36m0:00:01\u001b[0m\n",
      "\u001b[?25hDownloading mlflow-2.4.1-py3-none-any.whl (18.1 MB)\n",
      "\u001b[2K   \u001b[38;2;114;156;31m━━━━━━━━━━━━━━━━━━━━━━━━━━━━━━━━━━━━━━━━\u001b[0m \u001b[32m18.1/18.1 MB\u001b[0m \u001b[31m4.0 MB/s\u001b[0m eta \u001b[36m0:00:00\u001b[0mm eta \u001b[36m0:00:01\u001b[0m[36m0:00:01\u001b[0m\n",
      "\u001b[?25hDownloading rehydra-1.3.5-py3-none-any.whl (156 kB)\n",
      "\u001b[2K   \u001b[38;2;114;156;31m━━━━━━━━━━━━━━━━━━━━━━━━━━━━━━━━━━━━━━━━\u001b[0m \u001b[32m156.7/156.7 kB\u001b[0m \u001b[31m1.3 MB/s\u001b[0m eta \u001b[36m0:00:00\u001b[0m[36m0:00:01\u001b[0m\n",
      "\u001b[?25hDownloading rehydra_joblib_launcher-1.3.0-py3-none-any.whl (5.5 kB)\n",
      "Downloading rich-13.3.1-py3-none-any.whl (239 kB)\n"
     ]
    },
    {
     "name": "stdout",
     "output_type": "stream",
     "text": [
      "\u001b[2K   \u001b[38;2;114;156;31m━━━━━━━━━━━━━━━━━━━━━━━━━━━━━━━━━━━━━━━━\u001b[0m \u001b[32m239.0/239.0 kB\u001b[0m \u001b[31m1.8 MB/s\u001b[0m eta \u001b[36m0:00:00\u001b[0m[36m0:00:01\u001b[0m[36m0:00:01\u001b[0m\n",
      "\u001b[?25hDownloading casadi-3.6.5-cp311-none-manylinux2014_x86_64.whl (72.3 MB)\n",
      "\u001b[2K   \u001b[38;2;114;156;31m━━━━━━━━━━━━━━━━━━━━━━━━━━━━━━━━━━━━━━━━\u001b[0m \u001b[32m72.3/72.3 MB\u001b[0m \u001b[31m3.3 MB/s\u001b[0m eta \u001b[36m0:00:00\u001b[0mm eta \u001b[36m0:00:01\u001b[0m[36m0:00:01\u001b[0m\n",
      "\u001b[?25hDownloading cues-0.3.0-py3-none-any.whl (38 kB)\n",
      "Downloading dill-0.3.8-py3-none-any.whl (116 kB)\n",
      "\u001b[2K   \u001b[38;2;114;156;31m━━━━━━━━━━━━━━━━━━━━━━━━━━━━━━━━━━━━━━━━\u001b[0m \u001b[32m116.3/116.3 kB\u001b[0m \u001b[31m1.1 MB/s\u001b[0m eta \u001b[36m0:00:00\u001b[0m[31m5.0 MB/s\u001b[0m eta \u001b[36m0:00:01\u001b[0m\n",
      "\u001b[?25hDownloading GitPython-3.1.43-py3-none-any.whl (207 kB)\n",
      "\u001b[2K   \u001b[38;2;114;156;31m━━━━━━━━━━━━━━━━━━━━━━━━━━━━━━━━━━━━━━━━\u001b[0m \u001b[32m207.3/207.3 kB\u001b[0m \u001b[31m1.7 MB/s\u001b[0m eta \u001b[36m0:00:00\u001b[0mm eta \u001b[36m0:00:01\u001b[0m\n",
      "\u001b[?25hDownloading matplotx-0.3.10-py3-none-any.whl (25 kB)\n",
      "Downloading omegaconf-2.3.0-py3-none-any.whl (79 kB)\n",
      "\u001b[2K   \u001b[38;2;114;156;31m━━━━━━━━━━━━━━━━━━━━━━━━━━━━━━━━━━━━━━━━\u001b[0m \u001b[32m79.5/79.5 kB\u001b[0m \u001b[31m596.2 kB/s\u001b[0m eta \u001b[36m0:00:00\u001b[0mMB/s\u001b[0m eta \u001b[36m0:00:01\u001b[0m\n",
      "\u001b[?25hDownloading plotly-5.22.0-py3-none-any.whl (16.4 MB)\n",
      "\u001b[2K   \u001b[38;2;114;156;31m━━━━━━━━━━━━━━━━━━━━━━━━━━━━━━━━━━━━━━━━\u001b[0m \u001b[32m16.4/16.4 MB\u001b[0m \u001b[31m4.0 MB/s\u001b[0m eta \u001b[36m0:00:00\u001b[0mm eta \u001b[36m0:00:01\u001b[0m[36m0:00:01\u001b[0m\n",
      "\u001b[?25hUsing cached PyQt5_Qt5-5.15.2-py3-none-manylinux2014_x86_64.whl (59.9 MB)\n",
      "Downloading svgpath2mpl-1.0.0-py2.py3-none-any.whl (7.8 kB)\n",
      "Downloading svgpathtools-1.6.1-py2.py3-none-any.whl (67 kB)\n",
      "\u001b[2K   \u001b[38;2;114;156;31m━━━━━━━━━━━━━━━━━━━━━━━━━━━━━━━━━━━━━━━━\u001b[0m \u001b[32m67.4/67.4 kB\u001b[0m \u001b[31m510.0 kB/s\u001b[0m eta \u001b[36m0:00:00\u001b[0mMB/s\u001b[0m eta \u001b[36m0:00:01\u001b[0m\n",
      "\u001b[?25hDownloading tables-3.9.2-cp311-cp311-manylinux_2_17_x86_64.manylinux2014_x86_64.whl (7.5 MB)\n",
      "\u001b[2K   \u001b[38;2;114;156;31m━━━━━━━━━━━━━━━━━━━━━━━━━━━━━━━━━━━━━━━━\u001b[0m \u001b[32m7.5/7.5 MB\u001b[0m \u001b[31m4.2 MB/s\u001b[0m eta \u001b[36m0:00:00\u001b[0mm eta \u001b[36m0:00:01\u001b[0m0:01\u001b[0m:01\u001b[0m\n",
      "\u001b[?25hDownloading alembic-1.13.1-py3-none-any.whl (233 kB)\n",
      "\u001b[2K   \u001b[38;2;114;156;31m━━━━━━━━━━━━━━━━━━━━━━━━━━━━━━━━━━━━━━━━\u001b[0m \u001b[32m233.4/233.4 kB\u001b[0m \u001b[31m1.7 MB/s\u001b[0m eta \u001b[36m0:00:00\u001b[0m[31m7.2 MB/s\u001b[0m eta \u001b[36m0:00:01\u001b[0m\n",
      "\u001b[?25hDownloading blosc2-2.6.2-cp311-cp311-manylinux_2_17_x86_64.manylinux2014_x86_64.whl (4.4 MB)\n",
      "\u001b[2K   \u001b[38;2;114;156;31m━━━━━━━━━━━━━━━━━━━━━━━━━━━━━━━━━━━━━━━━\u001b[0m \u001b[32m4.4/4.4 MB\u001b[0m \u001b[31m4.1 MB/s\u001b[0m eta \u001b[36m0:00:00\u001b[0mm eta \u001b[36m0:00:01\u001b[0m[36m0:00:01\u001b[0m\n",
      "\u001b[?25hDownloading databricks_cli-0.18.0-py2.py3-none-any.whl (150 kB)\n",
      "\u001b[2K   \u001b[38;2;114;156;31m━━━━━━━━━━━━━━━━━━━━━━━━━━━━━━━━━━━━━━━━\u001b[0m \u001b[32m150.3/150.3 kB\u001b[0m \u001b[31m1.1 MB/s\u001b[0m eta \u001b[36m0:00:00\u001b[0m MB/s\u001b[0m eta \u001b[36m0:00:01\u001b[0m\n",
      "\u001b[?25hDownloading docker-6.1.3-py3-none-any.whl (148 kB)\n",
      "\u001b[2K   \u001b[38;2;114;156;31m━━━━━━━━━━━━━━━━━━━━━━━━━━━━━━━━━━━━━━━━\u001b[0m \u001b[32m148.1/148.1 kB\u001b[0m \u001b[31m1.0 MB/s\u001b[0m eta \u001b[36m0:00:00\u001b[0m[31m6.8 MB/s\u001b[0m eta \u001b[36m0:00:01\u001b[0m\n",
      "\u001b[?25hDownloading flask-2.3.3-py3-none-any.whl (96 kB)\n",
      "\u001b[2K   \u001b[38;2;114;156;31m━━━━━━━━━━━━━━━━━━━━━━━━━━━━━━━━━━━━━━━━\u001b[0m \u001b[32m96.1/96.1 kB\u001b[0m \u001b[31m662.5 kB/s\u001b[0m eta \u001b[36m0:00:00\u001b[0mB/s\u001b[0m eta \u001b[36m0:00:01\u001b[0m\n",
      "\u001b[?25hDownloading gitdb-4.0.11-py3-none-any.whl (62 kB)\n",
      "\u001b[2K   \u001b[38;2;114;156;31m━━━━━━━━━━━━━━━━━━━━━━━━━━━━━━━━━━━━━━━━\u001b[0m \u001b[32m62.7/62.7 kB\u001b[0m \u001b[31m429.2 kB/s\u001b[0m eta \u001b[36m0:00:00\u001b[0m36m0:00:01\u001b[0m\n",
      "\u001b[?25hDownloading gunicorn-20.1.0-py3-none-any.whl (79 kB)\n",
      "\u001b[2K   \u001b[38;2;114;156;31m━━━━━━━━━━━━━━━━━━━━━━━━━━━━━━━━━━━━━━━━\u001b[0m \u001b[32m79.5/79.5 kB\u001b[0m \u001b[31m537.0 kB/s\u001b[0m eta \u001b[36m0:00:00\u001b[0mB/s\u001b[0m eta \u001b[36m0:00:01\u001b[0m\n",
      "\u001b[?25hDownloading importlib_metadata-6.11.0-py3-none-any.whl (23 kB)\n",
      "Downloading Markdown-3.6-py3-none-any.whl (105 kB)\n",
      "\u001b[2K   \u001b[38;2;114;156;31m━━━━━━━━━━━━━━━━━━━━━━━━━━━━━━━━━━━━━━━\u001b[0m \u001b[32m105.4/105.4 kB\u001b[0m \u001b[31m205.8 kB/s\u001b[0m eta \u001b[36m0:00:00\u001b[0m31m6.0 MB/s\u001b[0m eta \u001b[36m0:00:01\u001b[0m\n",
      "\u001b[?25hDownloading protobuf-4.25.3-cp37-abi3-manylinux2014_x86_64.whl (294 kB)\n",
      "\u001b[2K   \u001b[38;2;114;156;31m━━━━━━━━━━━━━━━━━━━━━━━━━━━━━━━━━━━━━━━\u001b[0m \u001b[32m294.6/294.6 kB\u001b[0m \u001b[31m885.3 kB/s\u001b[0m eta \u001b[36m0:00:00\u001b[0m31m1.5 MB/s\u001b[0m eta \u001b[36m0:00:01\u001b[0m\n",
      "\u001b[?25hDownloading pyarrow-12.0.1-cp311-cp311-manylinux_2_17_x86_64.manylinux2014_x86_64.whl (38.9 MB)\n",
      "\u001b[2K   \u001b[38;2;114;156;31m━━━━━━━━━━━━━━━━━━━━━━━━━━━━━━━━━━━━━━━━\u001b[0m \u001b[32m38.9/38.9 MB\u001b[0m \u001b[31m3.4 MB/s\u001b[0m eta \u001b[36m0:00:00\u001b[0mm eta \u001b[36m0:00:01\u001b[0m[36m0:00:01\u001b[0m\n",
      "\u001b[?25hDownloading querystring_parser-1.2.4-py2.py3-none-any.whl (7.9 kB)\n",
      "Downloading SQLAlchemy-2.0.30-cp311-cp311-manylinux_2_17_x86_64.manylinux2014_x86_64.whl (3.2 MB)\n",
      "\u001b[2K   \u001b[38;2;114;156;31m━━━━━━━━━━━━━━━━━━━━━━━━━━━━━━━━━━━━━━━━\u001b[0m \u001b[32m3.2/3.2 MB\u001b[0m \u001b[31m4.2 MB/s\u001b[0m eta \u001b[36m0:00:00\u001b[0mm eta \u001b[36m0:00:01\u001b[0m[36m0:00:01\u001b[0m\n",
      "\u001b[?25hDownloading sqlparse-0.5.0-py3-none-any.whl (43 kB)\n",
      "\u001b[2K   \u001b[38;2;114;156;31m━━━━━━━━━━━━━━━━━━━━━━━━━━━━━━━━━━━━━━━━\u001b[0m \u001b[32m44.0/44.0 kB\u001b[0m \u001b[31m348.7 kB/s\u001b[0m eta \u001b[36m0:00:00\u001b[0mB/s\u001b[0m eta \u001b[36m0:00:01\u001b[0m\n",
      "\u001b[?25hDownloading tenacity-8.3.0-py3-none-any.whl (25 kB)\n",
      "Downloading py_cpuinfo-9.0.0-py3-none-any.whl (22 kB)\n",
      "Downloading svgwrite-1.4.3-py3-none-any.whl (67 kB)\n",
      "\u001b[2K   \u001b[38;2;114;156;31m━━━━━━━━━━━━━━━━━━━━━━━━━━━━━━━━━━━━━━━━\u001b[0m \u001b[32m67.1/67.1 kB\u001b[0m \u001b[31m463.3 kB/s\u001b[0m eta \u001b[36m0:00:00\u001b[0m1m11.8 MB/s\u001b[0m eta \u001b[36m0:00:01\u001b[0m\n",
      "\u001b[?25hDownloading blinker-1.8.2-py3-none-any.whl (9.5 kB)\n",
      "Downloading greenlet-3.0.3-cp311-cp311-manylinux_2_24_x86_64.manylinux_2_28_x86_64.whl (620 kB)\n",
      "\u001b[2K   \u001b[38;2;114;156;31m━━━━━━━━━━━━━━━━━━━━━━━━━━━━━━━━━━━━━━━━\u001b[0m \u001b[32m620.0/620.0 kB\u001b[0m \u001b[31m2.9 MB/s\u001b[0m eta \u001b[36m0:00:00\u001b[0mm eta \u001b[36m0:00:01\u001b[0m[36m0:00:01\u001b[0m\n",
      "\u001b[?25hDownloading itsdangerous-2.2.0-py3-none-any.whl (16 kB)\n",
      "Downloading markdown_it_py-2.2.0-py3-none-any.whl (84 kB)\n",
      "\u001b[2K   \u001b[38;2;114;156;31m━━━━━━━━━━━━━━━━━━━━━━━━━━━━━━━━━━━━━━━━\u001b[0m \u001b[32m84.5/84.5 kB\u001b[0m \u001b[31m581.6 kB/s\u001b[0m eta \u001b[36m0:00:00\u001b[0m1m6.4 MB/s\u001b[0m eta \u001b[36m0:00:01\u001b[0m\n",
      "\u001b[?25hDownloading ndindex-1.8-py3-none-any.whl (91 kB)\n",
      "\u001b[2K   \u001b[38;2;114;156;31m━━━━━━━━━━━━━━━━━━━━━━━━━━━━━━━━━━━━━━━━\u001b[0m \u001b[32m91.2/91.2 kB\u001b[0m \u001b[31m684.2 kB/s\u001b[0m eta \u001b[36m0:00:00\u001b[0m1m9.6 MB/s\u001b[0m eta \u001b[36m0:00:01\u001b[0m\n",
      "\u001b[?25hDownloading oauthlib-3.2.2-py3-none-any.whl (151 kB)\n",
      "\u001b[2K   \u001b[38;2;114;156;31m━━━━━━━━━━━━━━━━━━━━━━━━━━━━━━━━━━━━━━━━\u001b[0m \u001b[32m151.7/151.7 kB\u001b[0m \u001b[31m1.0 MB/s\u001b[0m eta \u001b[36m0:00:00\u001b[0m[31m7.3 MB/s\u001b[0m eta \u001b[36m0:00:01\u001b[0m\n",
      "\u001b[?25hDownloading smmap-5.0.1-py3-none-any.whl (24 kB)\n",
      "Downloading tabulate-0.9.0-py3-none-any.whl (35 kB)\n",
      "Downloading werkzeug-3.0.3-py3-none-any.whl (227 kB)\n",
      "\u001b[2K   \u001b[38;2;114;156;31m━━━━━━━━━━━━━━━━━━━━━━━━━━━━━━━━━━━━━━━\u001b[0m \u001b[32m227.3/227.3 kB\u001b[0m \u001b[31m369.6 kB/s\u001b[0m eta \u001b[36m0:00:00\u001b[0m eta \u001b[36m0:00:01\u001b[0m[36m0:00:01\u001b[0m\n",
      "\u001b[?25hDownloading Mako-1.3.5-py3-none-any.whl (78 kB)\n",
      "\u001b[2K   \u001b[38;2;114;156;31m━━━━━━━━━━━━━━━━━━━━━━━━━━━━━━━━━━━━━━━━\u001b[0m \u001b[32m78.6/78.6 kB\u001b[0m \u001b[31m309.7 kB/s\u001b[0m eta \u001b[36m0:00:00\u001b[0mB/s\u001b[0m eta \u001b[36m0:00:01\u001b[0m\n",
      "\u001b[?25hDownloading mdurl-0.1.2-py3-none-any.whl (10.0 kB)\n",
      "Building wheels for collected packages: antlr4-python3-runtime\n",
      "  Building wheel for antlr4-python3-runtime (setup.py) ... \u001b[?25ldone\n",
      "\u001b[?25h  Created wheel for antlr4-python3-runtime: filename=antlr4_python3_runtime-4.9.3-py3-none-any.whl size=144554 sha256=2e6463c9108e4667d42630afb2170ebb0b77800581682921e84410a4df36685a\n",
      "  Stored in directory: /home/sergei/.cache/pip/wheels/1a/97/32/461f837398029ad76911109f07047fde1d7b661a147c7c56d1\n",
      "Successfully built antlr4-python3-runtime\n",
      "Installing collected packages: pyqt5-qt5, py-cpuinfo, cues, antlr4-python3-runtime, Werkzeug, tenacity, tabulate, svgwrite, sqlparse, smmap, querystring-parser, pyarrow, protobuf, omegaconf, oauthlib, ndindex, mdurl, markdown, Mako, itsdangerous, importlib-metadata, gunicorn, greenlet, dill, casadi, blinker, svgpathtools, sqlalchemy, plotly, markdown-it-py, gitdb, Flask, docker, databricks-cli, blosc2, tables, svgpath2mpl, rich, matplotx, gitpython, alembic, rehydra, mlflow, rehydra-joblib-launcher, regelum-control\n",
      "  Attempting uninstall: pyarrow\n",
      "    Found existing installation: pyarrow 14.0.2\n",
      "    Uninstalling pyarrow-14.0.2:\n",
      "      Successfully uninstalled pyarrow-14.0.2\n",
      "  Attempting uninstall: importlib-metadata\n",
      "    Found existing installation: importlib-metadata 7.0.1\n"
     ]
    },
    {
     "name": "stdout",
     "output_type": "stream",
     "text": [
      "    Uninstalling importlib-metadata-7.0.1:\n",
      "      Successfully uninstalled importlib-metadata-7.0.1\n",
      "Successfully installed Flask-2.3.3 Mako-1.3.5 Werkzeug-3.0.3 alembic-1.13.1 antlr4-python3-runtime-4.9.3 blinker-1.8.2 blosc2-2.6.2 casadi-3.6.5 cues-0.3.0 databricks-cli-0.18.0 dill-0.3.8 docker-6.1.3 gitdb-4.0.11 gitpython-3.1.43 greenlet-3.0.3 gunicorn-20.1.0 importlib-metadata-6.11.0 itsdangerous-2.2.0 markdown-3.6 markdown-it-py-2.2.0 matplotx-0.3.10 mdurl-0.1.2 mlflow-2.4.1 ndindex-1.8 oauthlib-3.2.2 omegaconf-2.3.0 plotly-5.22.0 protobuf-4.25.3 py-cpuinfo-9.0.0 pyarrow-12.0.1 pyqt5-qt5-5.15.2 querystring-parser-1.2.4 regelum-control-0.3.2 rehydra-1.3.5 rehydra-joblib-launcher-1.3.0 rich-13.3.1 smmap-5.0.1 sqlalchemy-2.0.30 sqlparse-0.5.0 svgpath2mpl-1.0.0 svgpathtools-1.6.1 svgwrite-1.4.3 tables-3.9.2 tabulate-0.9.0 tenacity-8.3.0\n"
     ]
    }
   ],
   "source": [
    "!pip install regelum-control"
   ]
  },
  {
   "cell_type": "code",
   "execution_count": 2,
   "metadata": {
    "colab": {
     "base_uri": "https://localhost:8080/"
    },
    "id": "ud_zZVdcr1cp",
    "outputId": "7cba1e7a-d0fc-441c-ab64-12f8ebc3bb63"
   },
   "outputs": [
    {
     "name": "stdout",
     "output_type": "stream",
     "text": [
      "Requirement already satisfied: control in /home/sergei/anaconda3/lib/python3.11/site-packages (0.10.0)\n",
      "Requirement already satisfied: numpy>=1.23 in /home/sergei/anaconda3/lib/python3.11/site-packages (from control) (1.26.4)\n",
      "Requirement already satisfied: scipy>=1.8 in /home/sergei/anaconda3/lib/python3.11/site-packages (from control) (1.13.0)\n",
      "Requirement already satisfied: matplotlib>=3.6 in /home/sergei/anaconda3/lib/python3.11/site-packages (from control) (3.8.3)\n",
      "Requirement already satisfied: contourpy>=1.0.1 in /home/sergei/anaconda3/lib/python3.11/site-packages (from matplotlib>=3.6->control) (1.2.0)\n",
      "Requirement already satisfied: cycler>=0.10 in /home/sergei/anaconda3/lib/python3.11/site-packages (from matplotlib>=3.6->control) (0.12.1)\n",
      "Requirement already satisfied: fonttools>=4.22.0 in /home/sergei/anaconda3/lib/python3.11/site-packages (from matplotlib>=3.6->control) (4.50.0)\n",
      "Requirement already satisfied: kiwisolver>=1.3.1 in /home/sergei/anaconda3/lib/python3.11/site-packages (from matplotlib>=3.6->control) (1.4.5)\n",
      "Requirement already satisfied: packaging>=20.0 in /home/sergei/anaconda3/lib/python3.11/site-packages (from matplotlib>=3.6->control) (23.2)\n",
      "Requirement already satisfied: pillow>=8 in /home/sergei/anaconda3/lib/python3.11/site-packages (from matplotlib>=3.6->control) (10.2.0)\n",
      "Requirement already satisfied: pyparsing>=2.3.1 in /home/sergei/anaconda3/lib/python3.11/site-packages (from matplotlib>=3.6->control) (3.1.2)\n",
      "Requirement already satisfied: python-dateutil>=2.7 in /home/sergei/anaconda3/lib/python3.11/site-packages (from matplotlib>=3.6->control) (2.8.2)\n",
      "Requirement already satisfied: six>=1.5 in /home/sergei/anaconda3/lib/python3.11/site-packages (from python-dateutil>=2.7->matplotlib>=3.6->control) (1.16.0)\n"
     ]
    }
   ],
   "source": [
    "!pip install control"
   ]
  },
  {
   "cell_type": "code",
   "execution_count": 3,
   "metadata": {
    "id": "KdQa8Bdsr1fu"
   },
   "outputs": [],
   "source": [
    "from regelum.system import System\n",
    "from regelum.utils import rg\n",
    "import numpy as np\n",
    "import control\n",
    "\n",
    "from numpy.linalg import inv\n"
   ]
  },
  {
   "cell_type": "markdown",
   "metadata": {},
   "source": [
    "## 2. Define parameters of system"
   ]
  },
  {
   "cell_type": "markdown",
   "metadata": {},
   "source": [
    "Check \"notes.pdf\""
   ]
  },
  {
   "cell_type": "code",
   "execution_count": 4,
   "metadata": {
    "id": "d0HTr3ySr1id"
   },
   "outputs": [],
   "source": [
    "M=2\n",
    "m1=1\n",
    "m2=1.25\n",
    "L1=0.4\n",
    "L2=0.6\n",
    "I1=0.0014\n",
    "I2=0.0375\n",
    "g=9.8\n",
    "\n",
    "M_m = np.array([[1,0,0,0,0,0],\n",
    "            [0,1,0,0,0,0],\n",
    "            [0,0,1,0,0,0],\n",
    "            [0,0,0,M+m1+m2, m1*L1/2 + m2*L1, m2*L2/2],\n",
    "            [0,0,0,m1*L1/2+m2*L1, m1*L1**2/4 + m2*L1**2 +I1, m2*L1*L2/2],\n",
    "            [0,0,0,m2*L2/2, m2*L1*L2/2, m2*L2**2/4 + I2]])\n",
    "N = np.array([[0,0,0,1,0,0],\n",
    "            [0,0,0,0,1,0],\n",
    "            [0,0,0,0,0,1],\n",
    "            [0,0,0,0,0,0],\n",
    "            [0, m1*L1/2 * g + m2*L1*g, 0,0,0,0],\n",
    "            [0,0,m2*L2/2*g,0,0,0]])\n"
   ]
  },
  {
   "cell_type": "code",
   "execution_count": 5,
   "metadata": {
    "id": "wJc6QErHr1lW"
   },
   "outputs": [],
   "source": [
    "F = np.array([0,0,0,1,0,0])"
   ]
  },
  {
   "cell_type": "code",
   "execution_count": 6,
   "metadata": {
    "id": "J1_QDbvjr1on"
   },
   "outputs": [],
   "source": [
    "A = inv(M_m)@N\n",
    "B = inv(M_m)@F\n",
    "Q=np.eye(6)\n",
    "R=1\n",
    "K, S, E = control.lqr(A, B.reshape(-1,1), Q, R)"
   ]
  },
  {
   "cell_type": "code",
   "execution_count": 7,
   "metadata": {
    "colab": {
     "base_uri": "https://localhost:8080/",
     "height": 49
    },
    "id": "dPdPOHOqtrzI",
    "outputId": "85a93fae-7419-4d32-82fb-310fc0a8e4ca"
   },
   "outputs": [
    {
     "data": {
      "text/html": [
       "<pre style=\"white-space:pre;overflow-x:auto;line-height:normal;font-family:Menlo,'DejaVu Sans Mono',consolas,'Courier New',monospace\">\n",
       "<span style=\"color: #800080; text-decoration-color: #800080; font-weight: bold\">array</span><span style=\"font-weight: bold\">([[</span>   <span style=\"color: #008080; text-decoration-color: #008080; font-weight: bold\">1</span>.        , <span style=\"color: #008080; text-decoration-color: #008080; font-weight: bold\">-290.63671793</span>,  <span style=\"color: #008080; text-decoration-color: #008080; font-weight: bold\">310.15011316</span>,    <span style=\"color: #008080; text-decoration-color: #008080; font-weight: bold\">3.67182864</span>,\n",
       "          <span style=\"color: #008080; text-decoration-color: #008080; font-weight: bold\">-8.85768051</span>,   <span style=\"color: #008080; text-decoration-color: #008080; font-weight: bold\">39.37872528</span><span style=\"font-weight: bold\">]])</span>\n",
       "</pre>\n"
      ],
      "text/plain": [
       "\n",
       "\u001b[1;35marray\u001b[0m\u001b[1m(\u001b[0m\u001b[1m[\u001b[0m\u001b[1m[\u001b[0m   \u001b[1;36m1\u001b[0m.        , \u001b[1;36m-290.63671793\u001b[0m,  \u001b[1;36m310.15011316\u001b[0m,    \u001b[1;36m3.67182864\u001b[0m,\n",
       "          \u001b[1;36m-8.85768051\u001b[0m,   \u001b[1;36m39.37872528\u001b[0m\u001b[1m]\u001b[0m\u001b[1m]\u001b[0m\u001b[1m)\u001b[0m\n"
      ]
     },
     "metadata": {},
     "output_type": "display_data"
    }
   ],
   "source": [
    "K # pd_coefs"
   ]
  },
  {
   "cell_type": "markdown",
   "metadata": {},
   "source": [
    "## 3. Define system dynamics "
   ]
  },
  {
   "cell_type": "markdown",
   "metadata": {},
   "source": [
    "Check \"notes.pdf\""
   ]
  },
  {
   "cell_type": "code",
   "execution_count": 8,
   "metadata": {
    "id": "l4Fiw293f1bb"
   },
   "outputs": [],
   "source": [
    "class DoubleInvertPendulumLinear(System):\n",
    "    _dim_observation = 6\n",
    "    _dim_state = 6\n",
    "    _dim_inputs = 1\n",
    "    _name = \"double_pendulum\"\n",
    "    _system_type = \"diff_eqn\"\n",
    "\n",
    "    _observation_naming = _state_naming = [\n",
    "        \"x [m]\",\n",
    "        \"angle1 [rad]\",\n",
    "        \"angle2 [rad]\",\n",
    "        \"x_dot [m/s]\",\n",
    "        \"angle1_dot [rad/s]\",\n",
    "        \"angle2_dot [rad/s]\",\n",
    "    ]\n",
    "    _inputs_naming = [\"force [kg*m/s^2]\"]\n",
    "\n",
    "\n",
    "    _parameters = {\"M_c\": 2, \"m_p1\": 1, \"m_p2\": 1.25,\n",
    "                   \"b0\":0.15, \"b1\":0.005, \"b2\":0.005,\n",
    "                   \"L1\":0.4, \"L2\":0.6, \"I1\":0.0014, \"I2\":0.0375,\n",
    "                   \"g\": 9.81}\n",
    "    _action_bounds = [[-600.0, 600.0]]\n",
    "\n",
    "    def _compute_state_dynamics(self, time, state, inputs):\n",
    "        Dstate = rg.zeros(\n",
    "            self.dim_state,\n",
    "            prototype=(state, inputs),\n",
    "        )\n",
    "\n",
    "        M_c, m_p1, m_p2, b0, b1, b2, L1, L2, I1, I2, g = (\n",
    "                self.parameters[\"M_c\"],\n",
    "                self.parameters[\"m_p1\"],\n",
    "                self.parameters[\"m_p2\"],\n",
    "                self.parameters[\"b0\"],\n",
    "                self.parameters[\"b1\"],\n",
    "                self.parameters[\"b2\"],\n",
    "                self.parameters[\"L1\"],\n",
    "                self.parameters[\"L2\"],\n",
    "                self.parameters[\"I1\"],\n",
    "                self.parameters[\"I2\"],\n",
    "                self.parameters[\"g\"],\n",
    "            )\n",
    "\n",
    "        x = state[0]\n",
    "        theta_1 = state[1]\n",
    "        theta_2 = state[2]\n",
    "\n",
    "        x_dot = state[3]\n",
    "        theta_1_dot = state[4]\n",
    "        theta_2_dot = state[5]\n",
    "\n",
    "        sin_theta_1 = rg.sin(theta_1)\n",
    "        cos_theta_1 = rg.cos(theta_1)\n",
    "\n",
    "        sin_theta_2 = rg.sin(theta_2)\n",
    "        cos_theta_2 = rg.cos(theta_2)\n",
    "\n",
    "        den= 16*I1*I2*(M_c +m_p1+m_p2) + 4*I1*L2**2 * m_p2*(M_c+m_p1) + 4*I2*L1**2*M_c*(m_p1+4*m_p2)+4*I2*L1**2*m_p1*m_p2 + L1**2*L2**2*M_c*m_p1*m_p2\n",
    "\n",
    "        Force1 = inputs[0] * (16*I1*I2+4*I1*L2**2*m_p2+4*I2*L1**2*m_p1+16*I2*L1**2*m_p2+L1**2*L2**2*m_p1*m_p2)/den\n",
    "        Force2 = inputs[0] * (2*L1*(-4*I2*m_p1-8*I2*m_p2-L2**2*m_p2*m_p1))/den\n",
    "        Force3 = inputs[0] * (2*L2*m_p2*(-4*I1+L1**2*m_p1))/den\n",
    "\n",
    "        Dstate[0] = x_dot # derivative x\n",
    "        Dstate[1] = theta_1_dot # derivative of theta_1\n",
    "        Dstate[2] = theta_2_dot # derivative of theta_2\n",
    "        Dstate[3] = Force1 + (theta_1*(L1**2*g*(-4*I2*m_p1**2-16*I2*m_p1*m_p2-16*I2*m_p2**2-L2**2*m_p1**2*m_p2-2*L2**2*m_p1*m_p2**2)) + theta_2*L2**2*g*m_p2**2*(-4*I1+L1**2*m_p1))/den\n",
    "        Dstate[4] = Force2 + (theta_1*(2*L1*g*(4*I2*M_c*m_p1+8*I2*M_c*m_p2+4*I2*m_p1**2+12*I2*m_p1*m_p2+8*I2*m_p2**2+L2**2*M_c*m_p1*m_p2+2*L2**2*M_c*m_p2**2+L2**2*m_p1**2*m_p2+2*L2**2*m_p1*m_p2**2)) + theta_2*(2*L1*L2**2*g*m_p2**2*(-2*M_c-m_p1)))/den\n",
    "        Dstate[5] = Force3 + (theta_1*(2*L1**2*L2*g*m_p2*(-2*M_c*m_p1-4*M_c*m_p2-m_p1**2-2*m_p1*m_p2)) + theta_2*(2*L2*g*m_p2*(4*I1*(M_c+m_p1+m_p2)+L1**2*(M_c*m_p1+4*M_c*m_p2+m_p2*m_p1))))/den\n",
    "\n",
    "        return Dstate"
   ]
  },
  {
   "cell_type": "markdown",
   "metadata": {
    "id": "hXxqP5Bnf1mT"
   },
   "source": [
    "## 4. Define policy"
   ]
  },
  {
   "cell_type": "code",
   "execution_count": 9,
   "metadata": {
    "id": "cU_gkwlmgHUl"
   },
   "outputs": [],
   "source": [
    "from regelum.policy import Policy\n",
    "from regelum.system import KinematicPoint\n",
    "import numpy as np\n",
    "from regelum.scenario import Scenario\n",
    "from regelum.simulator import CasADi\n",
    "from regelum.callback import (\n",
    "    ScenarioStepLogger,\n",
    "    HistoricalDataCallback,\n",
    ")\n",
    "from regelum import set_ipython_env\n",
    "%matplotlib inline"
   ]
  },
  {
   "cell_type": "code",
   "execution_count": 10,
   "metadata": {
    "id": "qw93SIIug47k"
   },
   "outputs": [],
   "source": [
    "callbacks = [ScenarioStepLogger, HistoricalDataCallback]\n",
    "ScenarioStepLogger.cooldown = 0.1\n",
    "callbacks = set_ipython_env(callbacks=callbacks, interactive=True)"
   ]
  },
  {
   "cell_type": "code",
   "execution_count": 11,
   "metadata": {
    "id": "-PAHZTkugHXQ"
   },
   "outputs": [],
   "source": [
    "class DoubleInvertPendulumLinearPD(Policy):\n",
    "    def __init__(self, pd_coefs: np.ndarray, action_min: float, action_max: float):\n",
    "        super().__init__()\n",
    "\n",
    "        self.pid_coefs = np.array(pd_coefs).reshape(1, -1)\n",
    "        self.action_min = action_min\n",
    "        self.action_max = action_max\n",
    "\n",
    "    def get_action(self, observation: np.ndarray):\n",
    "        action = np.clip(\n",
    "            (-self.pid_coefs * observation).sum(),\n",
    "            self.action_min,\n",
    "            self.action_max,\n",
    "        )\n",
    "        return np.array([[action]])"
   ]
  },
  {
   "cell_type": "markdown",
   "metadata": {},
   "source": [
    "## Set up sumulator and run simulation"
   ]
  },
  {
   "cell_type": "code",
   "execution_count": 16,
   "metadata": {
    "id": "W3xSPI8ugkhh"
   },
   "outputs": [],
   "source": [
    "simulator = CasADi(\n",
    "    system=DoubleInvertPendulumLinear(),\n",
    "    state_init= np.array([[1., 0, 0,0,0.1,0.1]]), ## INITIAL CONDITIONS [x, theta1, theta2, x_dot, theta1_dot, theta2_dot]\n",
    ")\n",
    "\n",
    "scenario = Scenario(\n",
    "    policy=DoubleInvertPendulumLinearPD(pd_coefs=[K], action_min=-300, action_max=300), #set\n",
    "    simulator=simulator,\n",
    "    sampling_time=0.01,\n",
    "    N_episodes=1,\n",
    "    N_iterations=1,\n",
    ")"
   ]
  },
  {
   "cell_type": "code",
   "execution_count": 17,
   "metadata": {
    "colab": {
     "base_uri": "https://localhost:8080/"
    },
    "id": "s9qRF-uGglaz",
    "outputId": "7447ea29-c4d3-440f-f769-9ff3c1c05ee5"
   },
   "outputs": [
    {
     "data": {
      "text/html": [
       "<pre style=\"white-space:pre;overflow-x:auto;line-height:normal;font-family:Menlo,'DejaVu Sans Mono',consolas,'Courier New',monospace\"><span style=\"color: #7fbfbf; text-decoration-color: #7fbfbf\">[11:36:26] </span><span style=\"color: #000080; text-decoration-color: #000080\">INFO    </span> runn. objective: <span style=\"color: #008080; text-decoration-color: #008080; font-weight: bold\">0.00</span>, state est.: <span style=\"font-weight: bold\">[</span><span style=\"color: #008080; text-decoration-color: #008080; font-weight: bold\">1</span>.  <span style=\"color: #008080; text-decoration-color: #008080; font-weight: bold\">0</span>.  <span style=\"color: #008080; text-decoration-color: #008080; font-weight: bold\">0</span>.  <span style=\"color: #008080; text-decoration-color: #008080; font-weight: bold\">0</span>.  <span style=\"color: #008080; text-decoration-color: #008080; font-weight: bold\">0.1</span> <span style=\"color: #008080; text-decoration-color: #008080; font-weight: bold\">0.1</span><span style=\"font-weight: bold\">]</span>, observation: <span style=\"font-weight: bold\">[</span><span style=\"color: #008080; text-decoration-color: #008080; font-weight: bold\">1</span>. <a href=\"file:///home/sergei/anaconda3/lib/python3.11/site-packages/regelum/callback.py\" target=\"_blank\"><span style=\"color: #7f7f7f; text-decoration-color: #7f7f7f\">callback.py</span></a><span style=\"color: #7f7f7f; text-decoration-color: #7f7f7f\">:</span><a href=\"file:///home/sergei/anaconda3/lib/python3.11/site-packages/regelum/callback.py#1109\" target=\"_blank\"><span style=\"color: #7f7f7f; text-decoration-color: #7f7f7f\">1109</span></a>\n",
       "<span style=\"color: #7fbfbf; text-decoration-color: #7fbfbf\">           </span>         <span style=\"color: #008080; text-decoration-color: #008080; font-weight: bold\">0</span>.  <span style=\"color: #008080; text-decoration-color: #008080; font-weight: bold\">0</span>.  <span style=\"color: #008080; text-decoration-color: #008080; font-weight: bold\">0</span>.  <span style=\"color: #008080; text-decoration-color: #008080; font-weight: bold\">0.1</span> <span style=\"color: #008080; text-decoration-color: #008080; font-weight: bold\">0.1</span><span style=\"font-weight: bold\">]</span>, action: <span style=\"font-weight: bold\">[</span><span style=\"color: #008080; text-decoration-color: #008080; font-weight: bold\">-4.05</span><span style=\"font-weight: bold\">]</span>, value: <span style=\"color: #008080; text-decoration-color: #008080; font-weight: bold\">0.0000</span>, time: <span style=\"color: #008080; text-decoration-color: #008080; font-weight: bold\">0.0000</span> <span style=\"font-weight: bold\">(</span><span style=\"color: #008080; text-decoration-color: #008080; font-weight: bold\">0.0</span>%<span style=\"font-weight: bold\">)</span>,     <span style=\"color: #7f7f7f; text-decoration-color: #7f7f7f\">                </span>\n",
       "<span style=\"color: #7fbfbf; text-decoration-color: #7fbfbf\">           </span>         episode: <span style=\"color: #008080; text-decoration-color: #008080; font-weight: bold\">1</span>/<span style=\"color: #008080; text-decoration-color: #008080; font-weight: bold\">1</span>, iteration: <span style=\"color: #008080; text-decoration-color: #008080; font-weight: bold\">1</span>/<span style=\"color: #008080; text-decoration-color: #008080; font-weight: bold\">1</span>                                                   <span style=\"color: #7f7f7f; text-decoration-color: #7f7f7f\">                </span>\n",
       "</pre>\n"
      ],
      "text/plain": [
       "\u001b[2;36m[11:36:26]\u001b[0m\u001b[2;36m \u001b[0m\u001b[34mINFO    \u001b[0m runn. objective: \u001b[1;36m0.00\u001b[0m, state est.: \u001b[1m[\u001b[0m\u001b[1;36m1\u001b[0m.  \u001b[1;36m0\u001b[0m.  \u001b[1;36m0\u001b[0m.  \u001b[1;36m0\u001b[0m.  \u001b[1;36m0.1\u001b[0m \u001b[1;36m0.1\u001b[0m\u001b[1m]\u001b[0m, observation: \u001b[1m[\u001b[0m\u001b[1;36m1\u001b[0m. \u001b]8;id=725169;file:///home/sergei/anaconda3/lib/python3.11/site-packages/regelum/callback.py\u001b\\\u001b[2mcallback.py\u001b[0m\u001b]8;;\u001b\\\u001b[2m:\u001b[0m\u001b]8;id=773544;file:///home/sergei/anaconda3/lib/python3.11/site-packages/regelum/callback.py#1109\u001b\\\u001b[2m1109\u001b[0m\u001b]8;;\u001b\\\n",
       "\u001b[2;36m           \u001b[0m         \u001b[1;36m0\u001b[0m.  \u001b[1;36m0\u001b[0m.  \u001b[1;36m0\u001b[0m.  \u001b[1;36m0.1\u001b[0m \u001b[1;36m0.1\u001b[0m\u001b[1m]\u001b[0m, action: \u001b[1m[\u001b[0m\u001b[1;36m-4.05\u001b[0m\u001b[1m]\u001b[0m, value: \u001b[1;36m0.0000\u001b[0m, time: \u001b[1;36m0.0000\u001b[0m \u001b[1m(\u001b[0m\u001b[1;36m0.0\u001b[0m%\u001b[1m)\u001b[0m,     \u001b[2m                \u001b[0m\n",
       "\u001b[2;36m           \u001b[0m         episode: \u001b[1;36m1\u001b[0m/\u001b[1;36m1\u001b[0m, iteration: \u001b[1;36m1\u001b[0m/\u001b[1;36m1\u001b[0m                                                   \u001b[2m                \u001b[0m\n"
      ]
     },
     "metadata": {},
     "output_type": "display_data"
    },
    {
     "data": {
      "text/html": [
       "<pre style=\"white-space:pre;overflow-x:auto;line-height:normal;font-family:Menlo,'DejaVu Sans Mono',consolas,'Courier New',monospace\"><span style=\"color: #7fbfbf; text-decoration-color: #7fbfbf\">           </span><span style=\"color: #000080; text-decoration-color: #000080\">INFO    </span> runn. objective: <span style=\"color: #008080; text-decoration-color: #008080; font-weight: bold\">0.00</span>, state est.: <span style=\"font-weight: bold\">[</span><span style=\"color: #008080; text-decoration-color: #008080; font-weight: bold\">1</span>.   <span style=\"color: #008080; text-decoration-color: #008080; font-weight: bold\">0.02</span> <span style=\"color: #008080; text-decoration-color: #008080; font-weight: bold\">0.01</span> <span style=\"color: #008080; text-decoration-color: #008080; font-weight: bold\">0.03</span> <span style=\"color: #008080; text-decoration-color: #008080; font-weight: bold\">0.09</span> <span style=\"color: #008080; text-decoration-color: #008080; font-weight: bold\">0.04</span><span style=\"font-weight: bold\">]</span>,            <a href=\"file:///home/sergei/anaconda3/lib/python3.11/site-packages/regelum/callback.py\" target=\"_blank\"><span style=\"color: #7f7f7f; text-decoration-color: #7f7f7f\">callback.py</span></a><span style=\"color: #7f7f7f; text-decoration-color: #7f7f7f\">:</span><a href=\"file:///home/sergei/anaconda3/lib/python3.11/site-packages/regelum/callback.py#1109\" target=\"_blank\"><span style=\"color: #7f7f7f; text-decoration-color: #7f7f7f\">1109</span></a>\n",
       "<span style=\"color: #7fbfbf; text-decoration-color: #7fbfbf\">           </span>         observation: <span style=\"font-weight: bold\">[</span><span style=\"color: #008080; text-decoration-color: #008080; font-weight: bold\">1</span>.   <span style=\"color: #008080; text-decoration-color: #008080; font-weight: bold\">0.02</span> <span style=\"color: #008080; text-decoration-color: #008080; font-weight: bold\">0.01</span> <span style=\"color: #008080; text-decoration-color: #008080; font-weight: bold\">0.03</span> <span style=\"color: #008080; text-decoration-color: #008080; font-weight: bold\">0.09</span> <span style=\"color: #008080; text-decoration-color: #008080; font-weight: bold\">0.04</span><span style=\"font-weight: bold\">]</span>, action: <span style=\"font-weight: bold\">[</span><span style=\"color: #008080; text-decoration-color: #008080; font-weight: bold\">2.84</span><span style=\"font-weight: bold\">]</span>, value: <span style=\"color: #008080; text-decoration-color: #008080; font-weight: bold\">0.0000</span>,   <span style=\"color: #7f7f7f; text-decoration-color: #7f7f7f\">                </span>\n",
       "<span style=\"color: #7fbfbf; text-decoration-color: #7fbfbf\">           </span>         time: <span style=\"color: #008080; text-decoration-color: #008080; font-weight: bold\">0.1300</span> <span style=\"font-weight: bold\">(</span><span style=\"color: #008080; text-decoration-color: #008080; font-weight: bold\">13.0</span>%<span style=\"font-weight: bold\">)</span>, episode: <span style=\"color: #008080; text-decoration-color: #008080; font-weight: bold\">1</span>/<span style=\"color: #008080; text-decoration-color: #008080; font-weight: bold\">1</span>, iteration: <span style=\"color: #008080; text-decoration-color: #008080; font-weight: bold\">1</span>/<span style=\"color: #008080; text-decoration-color: #008080; font-weight: bold\">1</span>                             <span style=\"color: #7f7f7f; text-decoration-color: #7f7f7f\">                </span>\n",
       "</pre>\n"
      ],
      "text/plain": [
       "\u001b[2;36m          \u001b[0m\u001b[2;36m \u001b[0m\u001b[34mINFO    \u001b[0m runn. objective: \u001b[1;36m0.00\u001b[0m, state est.: \u001b[1m[\u001b[0m\u001b[1;36m1\u001b[0m.   \u001b[1;36m0.02\u001b[0m \u001b[1;36m0.01\u001b[0m \u001b[1;36m0.03\u001b[0m \u001b[1;36m0.09\u001b[0m \u001b[1;36m0.04\u001b[0m\u001b[1m]\u001b[0m,            \u001b]8;id=741751;file:///home/sergei/anaconda3/lib/python3.11/site-packages/regelum/callback.py\u001b\\\u001b[2mcallback.py\u001b[0m\u001b]8;;\u001b\\\u001b[2m:\u001b[0m\u001b]8;id=923483;file:///home/sergei/anaconda3/lib/python3.11/site-packages/regelum/callback.py#1109\u001b\\\u001b[2m1109\u001b[0m\u001b]8;;\u001b\\\n",
       "\u001b[2;36m           \u001b[0m         observation: \u001b[1m[\u001b[0m\u001b[1;36m1\u001b[0m.   \u001b[1;36m0.02\u001b[0m \u001b[1;36m0.01\u001b[0m \u001b[1;36m0.03\u001b[0m \u001b[1;36m0.09\u001b[0m \u001b[1;36m0.04\u001b[0m\u001b[1m]\u001b[0m, action: \u001b[1m[\u001b[0m\u001b[1;36m2.84\u001b[0m\u001b[1m]\u001b[0m, value: \u001b[1;36m0.0000\u001b[0m,   \u001b[2m                \u001b[0m\n",
       "\u001b[2;36m           \u001b[0m         time: \u001b[1;36m0.1300\u001b[0m \u001b[1m(\u001b[0m\u001b[1;36m13.0\u001b[0m%\u001b[1m)\u001b[0m, episode: \u001b[1;36m1\u001b[0m/\u001b[1;36m1\u001b[0m, iteration: \u001b[1;36m1\u001b[0m/\u001b[1;36m1\u001b[0m                             \u001b[2m                \u001b[0m\n"
      ]
     },
     "metadata": {},
     "output_type": "display_data"
    },
    {
     "data": {
      "text/html": [
       "<pre style=\"white-space:pre;overflow-x:auto;line-height:normal;font-family:Menlo,'DejaVu Sans Mono',consolas,'Courier New',monospace\"><span style=\"color: #7fbfbf; text-decoration-color: #7fbfbf\">           </span><span style=\"color: #000080; text-decoration-color: #000080\">INFO    </span> runn. objective: <span style=\"color: #008080; text-decoration-color: #008080; font-weight: bold\">0.00</span>, state est.: <span style=\"font-weight: bold\">[</span> <span style=\"color: #008080; text-decoration-color: #008080; font-weight: bold\">1.01</span>  <span style=\"color: #008080; text-decoration-color: #008080; font-weight: bold\">0.02</span>  <span style=\"color: #008080; text-decoration-color: #008080; font-weight: bold\">0.01</span>  <span style=\"color: #008080; text-decoration-color: #008080; font-weight: bold\">0.13</span> <span style=\"color: #008080; text-decoration-color: #008080; font-weight: bold\">-0.09</span> <span style=\"color: #008080; text-decoration-color: #008080; font-weight: bold\">-0.01</span><span style=\"font-weight: bold\">]</span>,      <a href=\"file:///home/sergei/anaconda3/lib/python3.11/site-packages/regelum/callback.py\" target=\"_blank\"><span style=\"color: #7f7f7f; text-decoration-color: #7f7f7f\">callback.py</span></a><span style=\"color: #7f7f7f; text-decoration-color: #7f7f7f\">:</span><a href=\"file:///home/sergei/anaconda3/lib/python3.11/site-packages/regelum/callback.py#1109\" target=\"_blank\"><span style=\"color: #7f7f7f; text-decoration-color: #7f7f7f\">1109</span></a>\n",
       "<span style=\"color: #7fbfbf; text-decoration-color: #7fbfbf\">           </span>         observation: <span style=\"font-weight: bold\">[</span> <span style=\"color: #008080; text-decoration-color: #008080; font-weight: bold\">1.01</span>  <span style=\"color: #008080; text-decoration-color: #008080; font-weight: bold\">0.02</span>  <span style=\"color: #008080; text-decoration-color: #008080; font-weight: bold\">0.01</span>  <span style=\"color: #008080; text-decoration-color: #008080; font-weight: bold\">0.13</span> <span style=\"color: #008080; text-decoration-color: #008080; font-weight: bold\">-0.09</span> <span style=\"color: #008080; text-decoration-color: #008080; font-weight: bold\">-0.01</span><span style=\"font-weight: bold\">]</span>, action: <span style=\"font-weight: bold\">[</span><span style=\"color: #008080; text-decoration-color: #008080; font-weight: bold\">1.64</span><span style=\"font-weight: bold\">]</span>, value:     <span style=\"color: #7f7f7f; text-decoration-color: #7f7f7f\">                </span>\n",
       "<span style=\"color: #7fbfbf; text-decoration-color: #7fbfbf\">           </span>         <span style=\"color: #008080; text-decoration-color: #008080; font-weight: bold\">0.0000</span>, time: <span style=\"color: #008080; text-decoration-color: #008080; font-weight: bold\">0.2500</span> <span style=\"font-weight: bold\">(</span><span style=\"color: #008080; text-decoration-color: #008080; font-weight: bold\">25.0</span>%<span style=\"font-weight: bold\">)</span>, episode: <span style=\"color: #008080; text-decoration-color: #008080; font-weight: bold\">1</span>/<span style=\"color: #008080; text-decoration-color: #008080; font-weight: bold\">1</span>, iteration: <span style=\"color: #008080; text-decoration-color: #008080; font-weight: bold\">1</span>/<span style=\"color: #008080; text-decoration-color: #008080; font-weight: bold\">1</span>                     <span style=\"color: #7f7f7f; text-decoration-color: #7f7f7f\">                </span>\n",
       "</pre>\n"
      ],
      "text/plain": [
       "\u001b[2;36m          \u001b[0m\u001b[2;36m \u001b[0m\u001b[34mINFO    \u001b[0m runn. objective: \u001b[1;36m0.00\u001b[0m, state est.: \u001b[1m[\u001b[0m \u001b[1;36m1.01\u001b[0m  \u001b[1;36m0.02\u001b[0m  \u001b[1;36m0.01\u001b[0m  \u001b[1;36m0.13\u001b[0m \u001b[1;36m-0.09\u001b[0m \u001b[1;36m-0.01\u001b[0m\u001b[1m]\u001b[0m,      \u001b]8;id=654356;file:///home/sergei/anaconda3/lib/python3.11/site-packages/regelum/callback.py\u001b\\\u001b[2mcallback.py\u001b[0m\u001b]8;;\u001b\\\u001b[2m:\u001b[0m\u001b]8;id=589877;file:///home/sergei/anaconda3/lib/python3.11/site-packages/regelum/callback.py#1109\u001b\\\u001b[2m1109\u001b[0m\u001b]8;;\u001b\\\n",
       "\u001b[2;36m           \u001b[0m         observation: \u001b[1m[\u001b[0m \u001b[1;36m1.01\u001b[0m  \u001b[1;36m0.02\u001b[0m  \u001b[1;36m0.01\u001b[0m  \u001b[1;36m0.13\u001b[0m \u001b[1;36m-0.09\u001b[0m \u001b[1;36m-0.01\u001b[0m\u001b[1m]\u001b[0m, action: \u001b[1m[\u001b[0m\u001b[1;36m1.64\u001b[0m\u001b[1m]\u001b[0m, value:     \u001b[2m                \u001b[0m\n",
       "\u001b[2;36m           \u001b[0m         \u001b[1;36m0.0000\u001b[0m, time: \u001b[1;36m0.2500\u001b[0m \u001b[1m(\u001b[0m\u001b[1;36m25.0\u001b[0m%\u001b[1m)\u001b[0m, episode: \u001b[1;36m1\u001b[0m/\u001b[1;36m1\u001b[0m, iteration: \u001b[1;36m1\u001b[0m/\u001b[1;36m1\u001b[0m                     \u001b[2m                \u001b[0m\n"
      ]
     },
     "metadata": {},
     "output_type": "display_data"
    },
    {
     "data": {
      "text/html": [
       "<pre style=\"white-space:pre;overflow-x:auto;line-height:normal;font-family:Menlo,'DejaVu Sans Mono',consolas,'Courier New',monospace\"><span style=\"color: #7fbfbf; text-decoration-color: #7fbfbf\">           </span><span style=\"color: #000080; text-decoration-color: #000080\">INFO    </span> runn. objective: <span style=\"color: #008080; text-decoration-color: #008080; font-weight: bold\">0.00</span>, state est.: <span style=\"font-weight: bold\">[</span> <span style=\"color: #008080; text-decoration-color: #008080; font-weight: bold\">1.03</span>  <span style=\"color: #008080; text-decoration-color: #008080; font-weight: bold\">0</span>.    <span style=\"color: #008080; text-decoration-color: #008080; font-weight: bold\">0</span>.    <span style=\"color: #008080; text-decoration-color: #008080; font-weight: bold\">0.17</span> <span style=\"color: #008080; text-decoration-color: #008080; font-weight: bold\">-0.11</span> <span style=\"color: #008080; text-decoration-color: #008080; font-weight: bold\">-0.06</span><span style=\"font-weight: bold\">]</span>,      <a href=\"file:///home/sergei/anaconda3/lib/python3.11/site-packages/regelum/callback.py\" target=\"_blank\"><span style=\"color: #7f7f7f; text-decoration-color: #7f7f7f\">callback.py</span></a><span style=\"color: #7f7f7f; text-decoration-color: #7f7f7f\">:</span><a href=\"file:///home/sergei/anaconda3/lib/python3.11/site-packages/regelum/callback.py#1109\" target=\"_blank\"><span style=\"color: #7f7f7f; text-decoration-color: #7f7f7f\">1109</span></a>\n",
       "<span style=\"color: #7fbfbf; text-decoration-color: #7fbfbf\">           </span>         observation: <span style=\"font-weight: bold\">[</span> <span style=\"color: #008080; text-decoration-color: #008080; font-weight: bold\">1.03</span>  <span style=\"color: #008080; text-decoration-color: #008080; font-weight: bold\">0</span>.    <span style=\"color: #008080; text-decoration-color: #008080; font-weight: bold\">0</span>.    <span style=\"color: #008080; text-decoration-color: #008080; font-weight: bold\">0.17</span> <span style=\"color: #008080; text-decoration-color: #008080; font-weight: bold\">-0.11</span> <span style=\"color: #008080; text-decoration-color: #008080; font-weight: bold\">-0.06</span><span style=\"font-weight: bold\">]</span>, action: <span style=\"font-weight: bold\">[</span><span style=\"color: #008080; text-decoration-color: #008080; font-weight: bold\">0.09</span><span style=\"font-weight: bold\">]</span>, value:     <span style=\"color: #7f7f7f; text-decoration-color: #7f7f7f\">                </span>\n",
       "<span style=\"color: #7fbfbf; text-decoration-color: #7fbfbf\">           </span>         <span style=\"color: #008080; text-decoration-color: #008080; font-weight: bold\">0.0000</span>, time: <span style=\"color: #008080; text-decoration-color: #008080; font-weight: bold\">0.4100</span> <span style=\"font-weight: bold\">(</span><span style=\"color: #008080; text-decoration-color: #008080; font-weight: bold\">41.0</span>%<span style=\"font-weight: bold\">)</span>, episode: <span style=\"color: #008080; text-decoration-color: #008080; font-weight: bold\">1</span>/<span style=\"color: #008080; text-decoration-color: #008080; font-weight: bold\">1</span>, iteration: <span style=\"color: #008080; text-decoration-color: #008080; font-weight: bold\">1</span>/<span style=\"color: #008080; text-decoration-color: #008080; font-weight: bold\">1</span>                     <span style=\"color: #7f7f7f; text-decoration-color: #7f7f7f\">                </span>\n",
       "</pre>\n"
      ],
      "text/plain": [
       "\u001b[2;36m          \u001b[0m\u001b[2;36m \u001b[0m\u001b[34mINFO    \u001b[0m runn. objective: \u001b[1;36m0.00\u001b[0m, state est.: \u001b[1m[\u001b[0m \u001b[1;36m1.03\u001b[0m  \u001b[1;36m0\u001b[0m.    \u001b[1;36m0\u001b[0m.    \u001b[1;36m0.17\u001b[0m \u001b[1;36m-0.11\u001b[0m \u001b[1;36m-0.06\u001b[0m\u001b[1m]\u001b[0m,      \u001b]8;id=726252;file:///home/sergei/anaconda3/lib/python3.11/site-packages/regelum/callback.py\u001b\\\u001b[2mcallback.py\u001b[0m\u001b]8;;\u001b\\\u001b[2m:\u001b[0m\u001b]8;id=782639;file:///home/sergei/anaconda3/lib/python3.11/site-packages/regelum/callback.py#1109\u001b\\\u001b[2m1109\u001b[0m\u001b]8;;\u001b\\\n",
       "\u001b[2;36m           \u001b[0m         observation: \u001b[1m[\u001b[0m \u001b[1;36m1.03\u001b[0m  \u001b[1;36m0\u001b[0m.    \u001b[1;36m0\u001b[0m.    \u001b[1;36m0.17\u001b[0m \u001b[1;36m-0.11\u001b[0m \u001b[1;36m-0.06\u001b[0m\u001b[1m]\u001b[0m, action: \u001b[1m[\u001b[0m\u001b[1;36m0.09\u001b[0m\u001b[1m]\u001b[0m, value:     \u001b[2m                \u001b[0m\n",
       "\u001b[2;36m           \u001b[0m         \u001b[1;36m0.0000\u001b[0m, time: \u001b[1;36m0.4100\u001b[0m \u001b[1m(\u001b[0m\u001b[1;36m41.0\u001b[0m%\u001b[1m)\u001b[0m, episode: \u001b[1;36m1\u001b[0m/\u001b[1;36m1\u001b[0m, iteration: \u001b[1;36m1\u001b[0m/\u001b[1;36m1\u001b[0m                     \u001b[2m                \u001b[0m\n"
      ]
     },
     "metadata": {},
     "output_type": "display_data"
    },
    {
     "data": {
      "text/html": [
       "<pre style=\"white-space:pre;overflow-x:auto;line-height:normal;font-family:Menlo,'DejaVu Sans Mono',consolas,'Courier New',monospace\"><span style=\"color: #7fbfbf; text-decoration-color: #7fbfbf\">           </span><span style=\"color: #000080; text-decoration-color: #000080\">INFO    </span> runn. objective: <span style=\"color: #008080; text-decoration-color: #008080; font-weight: bold\">0.00</span>, state est.: <span style=\"font-weight: bold\">[</span> <span style=\"color: #008080; text-decoration-color: #008080; font-weight: bold\">1.06</span> <span style=\"color: #008080; text-decoration-color: #008080; font-weight: bold\">-0.01</span> <span style=\"color: #008080; text-decoration-color: #008080; font-weight: bold\">-0.01</span>  <span style=\"color: #008080; text-decoration-color: #008080; font-weight: bold\">0.15</span> <span style=\"color: #008080; text-decoration-color: #008080; font-weight: bold\">-0.07</span> <span style=\"color: #008080; text-decoration-color: #008080; font-weight: bold\">-0.06</span><span style=\"font-weight: bold\">]</span>,      <a href=\"file:///home/sergei/anaconda3/lib/python3.11/site-packages/regelum/callback.py\" target=\"_blank\"><span style=\"color: #7f7f7f; text-decoration-color: #7f7f7f\">callback.py</span></a><span style=\"color: #7f7f7f; text-decoration-color: #7f7f7f\">:</span><a href=\"file:///home/sergei/anaconda3/lib/python3.11/site-packages/regelum/callback.py#1109\" target=\"_blank\"><span style=\"color: #7f7f7f; text-decoration-color: #7f7f7f\">1109</span></a>\n",
       "<span style=\"color: #7fbfbf; text-decoration-color: #7fbfbf\">           </span>         observation: <span style=\"font-weight: bold\">[</span> <span style=\"color: #008080; text-decoration-color: #008080; font-weight: bold\">1.06</span> <span style=\"color: #008080; text-decoration-color: #008080; font-weight: bold\">-0.01</span> <span style=\"color: #008080; text-decoration-color: #008080; font-weight: bold\">-0.01</span>  <span style=\"color: #008080; text-decoration-color: #008080; font-weight: bold\">0.15</span> <span style=\"color: #008080; text-decoration-color: #008080; font-weight: bold\">-0.07</span> <span style=\"color: #008080; text-decoration-color: #008080; font-weight: bold\">-0.06</span><span style=\"font-weight: bold\">]</span>, action: <span style=\"font-weight: bold\">[</span><span style=\"color: #008080; text-decoration-color: #008080; font-weight: bold\">-0.72</span><span style=\"font-weight: bold\">]</span>, value:    <span style=\"color: #7f7f7f; text-decoration-color: #7f7f7f\">                </span>\n",
       "<span style=\"color: #7fbfbf; text-decoration-color: #7fbfbf\">           </span>         <span style=\"color: #008080; text-decoration-color: #008080; font-weight: bold\">0.0000</span>, time: <span style=\"color: #008080; text-decoration-color: #008080; font-weight: bold\">0.5800</span> <span style=\"font-weight: bold\">(</span><span style=\"color: #008080; text-decoration-color: #008080; font-weight: bold\">58.0</span>%<span style=\"font-weight: bold\">)</span>, episode: <span style=\"color: #008080; text-decoration-color: #008080; font-weight: bold\">1</span>/<span style=\"color: #008080; text-decoration-color: #008080; font-weight: bold\">1</span>, iteration: <span style=\"color: #008080; text-decoration-color: #008080; font-weight: bold\">1</span>/<span style=\"color: #008080; text-decoration-color: #008080; font-weight: bold\">1</span>                     <span style=\"color: #7f7f7f; text-decoration-color: #7f7f7f\">                </span>\n",
       "</pre>\n"
      ],
      "text/plain": [
       "\u001b[2;36m          \u001b[0m\u001b[2;36m \u001b[0m\u001b[34mINFO    \u001b[0m runn. objective: \u001b[1;36m0.00\u001b[0m, state est.: \u001b[1m[\u001b[0m \u001b[1;36m1.06\u001b[0m \u001b[1;36m-0.01\u001b[0m \u001b[1;36m-0.01\u001b[0m  \u001b[1;36m0.15\u001b[0m \u001b[1;36m-0.07\u001b[0m \u001b[1;36m-0.06\u001b[0m\u001b[1m]\u001b[0m,      \u001b]8;id=756338;file:///home/sergei/anaconda3/lib/python3.11/site-packages/regelum/callback.py\u001b\\\u001b[2mcallback.py\u001b[0m\u001b]8;;\u001b\\\u001b[2m:\u001b[0m\u001b]8;id=677290;file:///home/sergei/anaconda3/lib/python3.11/site-packages/regelum/callback.py#1109\u001b\\\u001b[2m1109\u001b[0m\u001b]8;;\u001b\\\n",
       "\u001b[2;36m           \u001b[0m         observation: \u001b[1m[\u001b[0m \u001b[1;36m1.06\u001b[0m \u001b[1;36m-0.01\u001b[0m \u001b[1;36m-0.01\u001b[0m  \u001b[1;36m0.15\u001b[0m \u001b[1;36m-0.07\u001b[0m \u001b[1;36m-0.06\u001b[0m\u001b[1m]\u001b[0m, action: \u001b[1m[\u001b[0m\u001b[1;36m-0.72\u001b[0m\u001b[1m]\u001b[0m, value:    \u001b[2m                \u001b[0m\n",
       "\u001b[2;36m           \u001b[0m         \u001b[1;36m0.0000\u001b[0m, time: \u001b[1;36m0.5800\u001b[0m \u001b[1m(\u001b[0m\u001b[1;36m58.0\u001b[0m%\u001b[1m)\u001b[0m, episode: \u001b[1;36m1\u001b[0m/\u001b[1;36m1\u001b[0m, iteration: \u001b[1;36m1\u001b[0m/\u001b[1;36m1\u001b[0m                     \u001b[2m                \u001b[0m\n"
      ]
     },
     "metadata": {},
     "output_type": "display_data"
    },
    {
     "data": {
      "text/html": [
       "<pre style=\"white-space:pre;overflow-x:auto;line-height:normal;font-family:Menlo,'DejaVu Sans Mono',consolas,'Courier New',monospace\"><span style=\"color: #7fbfbf; text-decoration-color: #7fbfbf\">           </span><span style=\"color: #000080; text-decoration-color: #000080\">INFO    </span> runn. objective: <span style=\"color: #008080; text-decoration-color: #008080; font-weight: bold\">0.00</span>, state est.: <span style=\"font-weight: bold\">[</span> <span style=\"color: #008080; text-decoration-color: #008080; font-weight: bold\">1.09</span> <span style=\"color: #008080; text-decoration-color: #008080; font-weight: bold\">-0.02</span> <span style=\"color: #008080; text-decoration-color: #008080; font-weight: bold\">-0.02</span>  <span style=\"color: #008080; text-decoration-color: #008080; font-weight: bold\">0.11</span> <span style=\"color: #008080; text-decoration-color: #008080; font-weight: bold\">-0.03</span> <span style=\"color: #008080; text-decoration-color: #008080; font-weight: bold\">-0.04</span><span style=\"font-weight: bold\">]</span>,      <a href=\"file:///home/sergei/anaconda3/lib/python3.11/site-packages/regelum/callback.py\" target=\"_blank\"><span style=\"color: #7f7f7f; text-decoration-color: #7f7f7f\">callback.py</span></a><span style=\"color: #7f7f7f; text-decoration-color: #7f7f7f\">:</span><a href=\"file:///home/sergei/anaconda3/lib/python3.11/site-packages/regelum/callback.py#1109\" target=\"_blank\"><span style=\"color: #7f7f7f; text-decoration-color: #7f7f7f\">1109</span></a>\n",
       "<span style=\"color: #7fbfbf; text-decoration-color: #7fbfbf\">           </span>         observation: <span style=\"font-weight: bold\">[</span> <span style=\"color: #008080; text-decoration-color: #008080; font-weight: bold\">1.09</span> <span style=\"color: #008080; text-decoration-color: #008080; font-weight: bold\">-0.02</span> <span style=\"color: #008080; text-decoration-color: #008080; font-weight: bold\">-0.02</span>  <span style=\"color: #008080; text-decoration-color: #008080; font-weight: bold\">0.11</span> <span style=\"color: #008080; text-decoration-color: #008080; font-weight: bold\">-0.03</span> <span style=\"color: #008080; text-decoration-color: #008080; font-weight: bold\">-0.04</span><span style=\"font-weight: bold\">]</span>, action: <span style=\"font-weight: bold\">[</span><span style=\"color: #008080; text-decoration-color: #008080; font-weight: bold\">-1.02</span><span style=\"font-weight: bold\">]</span>, value:    <span style=\"color: #7f7f7f; text-decoration-color: #7f7f7f\">                </span>\n",
       "<span style=\"color: #7fbfbf; text-decoration-color: #7fbfbf\">           </span>         <span style=\"color: #008080; text-decoration-color: #008080; font-weight: bold\">0.0000</span>, time: <span style=\"color: #008080; text-decoration-color: #008080; font-weight: bold\">0.7500</span> <span style=\"font-weight: bold\">(</span><span style=\"color: #008080; text-decoration-color: #008080; font-weight: bold\">75.0</span>%<span style=\"font-weight: bold\">)</span>, episode: <span style=\"color: #008080; text-decoration-color: #008080; font-weight: bold\">1</span>/<span style=\"color: #008080; text-decoration-color: #008080; font-weight: bold\">1</span>, iteration: <span style=\"color: #008080; text-decoration-color: #008080; font-weight: bold\">1</span>/<span style=\"color: #008080; text-decoration-color: #008080; font-weight: bold\">1</span>                     <span style=\"color: #7f7f7f; text-decoration-color: #7f7f7f\">                </span>\n",
       "</pre>\n"
      ],
      "text/plain": [
       "\u001b[2;36m          \u001b[0m\u001b[2;36m \u001b[0m\u001b[34mINFO    \u001b[0m runn. objective: \u001b[1;36m0.00\u001b[0m, state est.: \u001b[1m[\u001b[0m \u001b[1;36m1.09\u001b[0m \u001b[1;36m-0.02\u001b[0m \u001b[1;36m-0.02\u001b[0m  \u001b[1;36m0.11\u001b[0m \u001b[1;36m-0.03\u001b[0m \u001b[1;36m-0.04\u001b[0m\u001b[1m]\u001b[0m,      \u001b]8;id=795175;file:///home/sergei/anaconda3/lib/python3.11/site-packages/regelum/callback.py\u001b\\\u001b[2mcallback.py\u001b[0m\u001b]8;;\u001b\\\u001b[2m:\u001b[0m\u001b]8;id=911019;file:///home/sergei/anaconda3/lib/python3.11/site-packages/regelum/callback.py#1109\u001b\\\u001b[2m1109\u001b[0m\u001b]8;;\u001b\\\n",
       "\u001b[2;36m           \u001b[0m         observation: \u001b[1m[\u001b[0m \u001b[1;36m1.09\u001b[0m \u001b[1;36m-0.02\u001b[0m \u001b[1;36m-0.02\u001b[0m  \u001b[1;36m0.11\u001b[0m \u001b[1;36m-0.03\u001b[0m \u001b[1;36m-0.04\u001b[0m\u001b[1m]\u001b[0m, action: \u001b[1m[\u001b[0m\u001b[1;36m-1.02\u001b[0m\u001b[1m]\u001b[0m, value:    \u001b[2m                \u001b[0m\n",
       "\u001b[2;36m           \u001b[0m         \u001b[1;36m0.0000\u001b[0m, time: \u001b[1;36m0.7500\u001b[0m \u001b[1m(\u001b[0m\u001b[1;36m75.0\u001b[0m%\u001b[1m)\u001b[0m, episode: \u001b[1;36m1\u001b[0m/\u001b[1;36m1\u001b[0m, iteration: \u001b[1;36m1\u001b[0m/\u001b[1;36m1\u001b[0m                     \u001b[2m                \u001b[0m\n"
      ]
     },
     "metadata": {},
     "output_type": "display_data"
    },
    {
     "data": {
      "text/html": [
       "<pre style=\"white-space:pre;overflow-x:auto;line-height:normal;font-family:Menlo,'DejaVu Sans Mono',consolas,'Courier New',monospace\"><span style=\"color: #7fbfbf; text-decoration-color: #7fbfbf\">[11:36:27] </span><span style=\"color: #000080; text-decoration-color: #000080\">INFO    </span> runn. objective: <span style=\"color: #008080; text-decoration-color: #008080; font-weight: bold\">0.00</span>, state est.: <span style=\"font-weight: bold\">[</span> <span style=\"color: #008080; text-decoration-color: #008080; font-weight: bold\">1.1</span>  <span style=\"color: #008080; text-decoration-color: #008080; font-weight: bold\">-0.02</span> <span style=\"color: #008080; text-decoration-color: #008080; font-weight: bold\">-0.02</span>  <span style=\"color: #008080; text-decoration-color: #008080; font-weight: bold\">0.06</span> <span style=\"color: #008080; text-decoration-color: #008080; font-weight: bold\">-0.01</span> <span style=\"color: #008080; text-decoration-color: #008080; font-weight: bold\">-0.02</span><span style=\"font-weight: bold\">]</span>,      <a href=\"file:///home/sergei/anaconda3/lib/python3.11/site-packages/regelum/callback.py\" target=\"_blank\"><span style=\"color: #7f7f7f; text-decoration-color: #7f7f7f\">callback.py</span></a><span style=\"color: #7f7f7f; text-decoration-color: #7f7f7f\">:</span><a href=\"file:///home/sergei/anaconda3/lib/python3.11/site-packages/regelum/callback.py#1109\" target=\"_blank\"><span style=\"color: #7f7f7f; text-decoration-color: #7f7f7f\">1109</span></a>\n",
       "<span style=\"color: #7fbfbf; text-decoration-color: #7fbfbf\">           </span>         observation: <span style=\"font-weight: bold\">[</span> <span style=\"color: #008080; text-decoration-color: #008080; font-weight: bold\">1.1</span>  <span style=\"color: #008080; text-decoration-color: #008080; font-weight: bold\">-0.02</span> <span style=\"color: #008080; text-decoration-color: #008080; font-weight: bold\">-0.02</span>  <span style=\"color: #008080; text-decoration-color: #008080; font-weight: bold\">0.06</span> <span style=\"color: #008080; text-decoration-color: #008080; font-weight: bold\">-0.01</span> <span style=\"color: #008080; text-decoration-color: #008080; font-weight: bold\">-0.02</span><span style=\"font-weight: bold\">]</span>, action: <span style=\"font-weight: bold\">[</span><span style=\"color: #008080; text-decoration-color: #008080; font-weight: bold\">-1.1</span><span style=\"font-weight: bold\">]</span>, value:     <span style=\"color: #7f7f7f; text-decoration-color: #7f7f7f\">                </span>\n",
       "<span style=\"color: #7fbfbf; text-decoration-color: #7fbfbf\">           </span>         <span style=\"color: #008080; text-decoration-color: #008080; font-weight: bold\">0.0000</span>, time: <span style=\"color: #008080; text-decoration-color: #008080; font-weight: bold\">0.9200</span> <span style=\"font-weight: bold\">(</span><span style=\"color: #008080; text-decoration-color: #008080; font-weight: bold\">92.0</span>%<span style=\"font-weight: bold\">)</span>, episode: <span style=\"color: #008080; text-decoration-color: #008080; font-weight: bold\">1</span>/<span style=\"color: #008080; text-decoration-color: #008080; font-weight: bold\">1</span>, iteration: <span style=\"color: #008080; text-decoration-color: #008080; font-weight: bold\">1</span>/<span style=\"color: #008080; text-decoration-color: #008080; font-weight: bold\">1</span>                     <span style=\"color: #7f7f7f; text-decoration-color: #7f7f7f\">                </span>\n",
       "</pre>\n"
      ],
      "text/plain": [
       "\u001b[2;36m[11:36:27]\u001b[0m\u001b[2;36m \u001b[0m\u001b[34mINFO    \u001b[0m runn. objective: \u001b[1;36m0.00\u001b[0m, state est.: \u001b[1m[\u001b[0m \u001b[1;36m1.1\u001b[0m  \u001b[1;36m-0.02\u001b[0m \u001b[1;36m-0.02\u001b[0m  \u001b[1;36m0.06\u001b[0m \u001b[1;36m-0.01\u001b[0m \u001b[1;36m-0.02\u001b[0m\u001b[1m]\u001b[0m,      \u001b]8;id=412273;file:///home/sergei/anaconda3/lib/python3.11/site-packages/regelum/callback.py\u001b\\\u001b[2mcallback.py\u001b[0m\u001b]8;;\u001b\\\u001b[2m:\u001b[0m\u001b]8;id=300964;file:///home/sergei/anaconda3/lib/python3.11/site-packages/regelum/callback.py#1109\u001b\\\u001b[2m1109\u001b[0m\u001b]8;;\u001b\\\n",
       "\u001b[2;36m           \u001b[0m         observation: \u001b[1m[\u001b[0m \u001b[1;36m1.1\u001b[0m  \u001b[1;36m-0.02\u001b[0m \u001b[1;36m-0.02\u001b[0m  \u001b[1;36m0.06\u001b[0m \u001b[1;36m-0.01\u001b[0m \u001b[1;36m-0.02\u001b[0m\u001b[1m]\u001b[0m, action: \u001b[1m[\u001b[0m\u001b[1;36m-1.1\u001b[0m\u001b[1m]\u001b[0m, value:     \u001b[2m                \u001b[0m\n",
       "\u001b[2;36m           \u001b[0m         \u001b[1;36m0.0000\u001b[0m, time: \u001b[1;36m0.9200\u001b[0m \u001b[1m(\u001b[0m\u001b[1;36m92.0\u001b[0m%\u001b[1m)\u001b[0m, episode: \u001b[1;36m1\u001b[0m/\u001b[1;36m1\u001b[0m, iteration: \u001b[1;36m1\u001b[0m/\u001b[1;36m1\u001b[0m                     \u001b[2m                \u001b[0m\n"
      ]
     },
     "metadata": {},
     "output_type": "display_data"
    }
   ],
   "source": [
    "# output is omitted for this code cell\n",
    "scenario.run()"
   ]
  },
  {
   "cell_type": "code",
   "execution_count": 18,
   "metadata": {
    "colab": {
     "base_uri": "https://localhost:8080/",
     "height": 497
    },
    "id": "KBmFdtmYgoR4",
    "outputId": "3193772d-b3c0-4d2d-9ce7-6c9d8faa683c"
   },
   "outputs": [
    {
     "data": {
      "image/png": "[encoded data removed]"
     },
     "metadata": {},
     "output_type": "display_data"
    }
   ],
   "source": [
    "callbacks[1].plot(name=\"observations\");"
   ]
  },
  {
   "cell_type": "code",
   "execution_count": null,
   "metadata": {
    "id": "FWLJu9WYxYH1"
   },
   "outputs": [],
   "source": []
  },
  {
   "cell_type": "code",
   "execution_count": null,
   "metadata": {},
   "outputs": [],
   "source": []
  }
 ],
 "metadata": {
  "colab": {
   "provenance": []
  },
  "kernelspec": {
   "display_name": "Python 3 (ipykernel)",
   "language": "python",
   "name": "python3"
  },
  "language_info": {
   "codemirror_mode": {
    "name": "ipython",
    "version": 3
   },
   "file_extension": ".py",
   "mimetype": "text/x-python",
   "name": "python",
   "nbconvert_exporter": "python",
   "pygments_lexer": "ipython3",
   "version": "3.11.7"
  }
 },
 "nbformat": 4,
 "nbformat_minor": 1
}
